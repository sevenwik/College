{
 "cells": [
  {
   "cell_type": "markdown",
   "metadata": {},
   "source": [
    "# Data Imputation\n",
    "    Imputation is the process of replacing missing data with substituted values.\n",
    "\n"
   ]
  },
  {
   "cell_type": "code",
   "execution_count": 22,
   "metadata": {},
   "outputs": [],
   "source": [
    "from numpy import mean\n",
    "from numpy import std\n",
    "from pandas import read_csv\n",
    "from sklearn.ensemble import RandomForestClassifier\n",
    "from sklearn.impute import SimpleImputer\n",
    "from sklearn.model_selection import cross_val_score\n",
    "from sklearn.model_selection import RepeatedStratifiedKFold\n",
    "from sklearn.pipeline import Pipeline\n",
    "from matplotlib import pyplot\n",
    "import sys\n",
    "from impyute.imputation.cs import fast_knn\n",
    "from impyute.imputation.cs import mice\n",
    "import pandas as pd\n",
    "from numpy import isnan\n",
    "import numpy as np"
   ]
  },
  {
   "cell_type": "markdown",
   "metadata": {},
   "source": [
    "# Statistical Imputation\n",
    "    The values may be missing completely or may be marked with a special charater for this data set missing \n",
    "    values are marked by \"?\".\n",
    "## Common statistics calculated include:\n",
    "\n",
    " * The column mean value.\n",
    " * The column median value.\n",
    " * The column mode value.\n",
    " * A constant value."
   ]
  },
  {
   "cell_type": "markdown",
   "metadata": {},
   "source": [
    "## Filling \"?\" with NaN\n",
    "    We can load the dataset using the read_csv() Pandas function and specify the “na_values” to load values of ‘?‘ as missing, marked with a NaN value."
   ]
  },
  {
   "cell_type": "code",
   "execution_count": 4,
   "metadata": {},
   "outputs": [
    {
     "output_type": "stream",
     "name": "stdout",
     "text": "0   1        2     3      4     5    6    7    8    9   ...    18    19  \\\n0  2.0   1   530101  38.5   66.0  28.0  3.0  3.0  NaN  2.0  ...  45.0   8.4   \n1  1.0   1   534817  39.2   88.0  20.0  NaN  NaN  4.0  1.0  ...  50.0  85.0   \n2  2.0   1   530334  38.3   40.0  24.0  1.0  1.0  3.0  1.0  ...  33.0   6.7   \n3  1.0   9  5290409  39.1  164.0  84.0  4.0  1.0  6.0  2.0  ...  48.0   7.2   \n4  2.0   1   530255  37.3  104.0  35.0  NaN  NaN  6.0  2.0  ...  74.0   7.4   \n\n    20   21   22  23     24  25  26  27  \n0  NaN  NaN  2.0   2  11300   0   0   2  \n1  2.0  2.0  3.0   2   2208   0   0   2  \n2  NaN  NaN  1.0   2      0   0   0   1  \n3  3.0  5.3  2.0   1   2208   0   0   1  \n4  NaN  NaN  2.0   2   4300   0   0   2  \n\n[5 rows x 28 columns]\n"
    }
   ],
   "source": [
    "df = pd.read_csv(\"HorseColic.csv\",header=None, na_values=\"?\")\n",
    "print(df.head())"
   ]
  },
  {
   "cell_type": "markdown",
   "metadata": {},
   "source": [
    "## Complete Case Analysis\n",
    " * Here the rows with miising values are removed. It can be used for both numerical and categorical values.\n",
    " \n",
    " * Running the below code resulted in only 6 rows which are complete(without any missing values) so, not so efficient for my data set. "
   ]
  },
  {
   "cell_type": "code",
   "execution_count": 14,
   "metadata": {},
   "outputs": [
    {
     "output_type": "stream",
     "name": "stdout",
     "text": "Before Imputation (300, 28)\nAfter Imputation (6, 28)\n"
    }
   ],
   "source": [
    "print(\"Before Imputation\",df.shape)\n",
    "df1 = df.dropna()\n",
    "print(\"After Imputation\",df1.shape)"
   ]
  },
  {
   "cell_type": "markdown",
   "metadata": {},
   "source": [
    "## Missing Category Imputation\n",
    " * Missing categories are grouped under one label called Missing.\n",
    " \n",
    " * This method mainly used for categorical values and not for numerical values. "
   ]
  },
  {
   "cell_type": "code",
   "execution_count": 24,
   "metadata": {},
   "outputs": [
    {
     "output_type": "stream",
     "name": "stdout",
     "text": "Missing values: \n     0   1        2     3      4     5        6        7        8    9   ...  \\\n0  2.0   1   530101  38.5   66.0  28.0      3.0      3.0  Missing  2.0  ...   \n1  1.0   1   534817  39.2   88.0  20.0  Missing  Missing      4.0  1.0  ...   \n2  2.0   1   530334  38.3   40.0  24.0      1.0      1.0      3.0  1.0  ...   \n3  1.0   9  5290409  39.1  164.0  84.0      4.0      1.0      6.0  2.0  ...   \n4  2.0   1   530255  37.3  104.0  35.0  Missing  Missing      6.0  2.0  ...   \n\n     18    19       20       21   22 23     24 25 26 27  \n0  45.0   8.4  Missing  Missing  2.0  2  11300  0  0  2  \n1  50.0  85.0      2.0      2.0  3.0  2   2208  0  0  2  \n2  33.0   6.7  Missing  Missing  1.0  2      0  0  0  1  \n3  48.0   7.2      3.0      5.3  2.0  1   2208  0  0  1  \n4  74.0   7.4  Missing  Missing  2.0  2   4300  0  0  2  \n\n[5 rows x 28 columns]\nAfter replacing with 'Missing' keyword: \n     0   1        2     3      4     5        6        7        8    9   ...  \\\n0  2.0   1   530101  38.5   66.0  28.0      3.0      3.0  Missing  2.0  ...   \n1  1.0   1   534817  39.2   88.0  20.0  Missing  Missing      4.0  1.0  ...   \n2  2.0   1   530334  38.3   40.0  24.0      1.0      1.0      3.0  1.0  ...   \n3  1.0   9  5290409  39.1  164.0  84.0      4.0      1.0      6.0  2.0  ...   \n4  2.0   1   530255  37.3  104.0  35.0  Missing  Missing      6.0  2.0  ...   \n\n     18    19       20       21   22 23     24 25 26 27  \n0  45.0   8.4  Missing  Missing  2.0  2  11300  0  0  2  \n1  50.0  85.0      2.0      2.0  3.0  2   2208  0  0  2  \n2  33.0   6.7  Missing  Missing  1.0  2      0  0  0  1  \n3  48.0   7.2      3.0      5.3  2.0  1   2208  0  0  1  \n4  74.0   7.4  Missing  Missing  2.0  2   4300  0  0  2  \n\n[5 rows x 28 columns]\n"
    }
   ],
   "source": [
    "df_missing = df\n",
    "print(\"Missing values: \\n\",df_missing.head())\n",
    "df_missing.replace({np.nan: 'Missing'},regex=False,inplace=True)\n",
    "print(\"After replacing with 'Missing' keyword: \\n\",df_missing.head())"
   ]
  },
  {
   "cell_type": "markdown",
   "metadata": {},
   "source": [
    "## Mean\n",
    " * Running the below code first loads the dataset and reports the total number of missing values in the dataset as 1,605.\n",
    "\n",
    " * The transform is configured, fit, and performed and the resulting new dataset has no missing values, confirming it was performed as we expected.\n",
    "\n",
    " * Each missing value was replaced with the mean value of its column.\n",
    "  \n",
    " * The Result for 1 row is shown."
   ]
  },
  {
   "cell_type": "code",
   "execution_count": 12,
   "metadata": {},
   "outputs": [
    {
     "output_type": "stream",
     "name": "stdout",
     "text": "Missing: 1605\n1st Row with missing values: \n[2.00000e+00 1.00000e+00 5.30101e+05 3.85000e+01 6.60000e+01 2.80000e+01\n 3.00000e+00 3.00000e+00         nan 2.00000e+00 5.00000e+00 4.00000e+00\n 4.00000e+00         nan         nan         nan 3.00000e+00 5.00000e+00\n 4.50000e+01 8.40000e+00         nan         nan 2.00000e+00 2.00000e+00\n 1.13000e+04 0.00000e+00 0.00000e+00 2.00000e+00]\n=======================================================================\nMissing: 0\n1st Row after filling the values: \n[2.00000000e+00 1.00000000e+00 5.30101000e+05 3.85000000e+01\n 6.60000000e+01 2.80000000e+01 3.00000000e+00 3.00000000e+00\n 2.85375494e+00 2.00000000e+00 5.00000000e+00 4.00000000e+00\n 4.00000000e+00 1.75510204e+00 1.58247423e+00 4.70754717e+00\n 3.00000000e+00 5.00000000e+00 4.50000000e+01 8.40000000e+00\n 2.03703704e+00 3.01960784e+00 2.00000000e+00 2.00000000e+00\n 1.13000000e+04 0.00000000e+00 0.00000000e+00 2.00000000e+00]\n"
    }
   ],
   "source": [
    "\n",
    "data = df.values\n",
    "ix = [i for i in range(data.shape[1])]\n",
    "X, y = data[:, ix], data[:, 23]\n",
    "\n",
    "print('Missing: %d' % sum(isnan(X).flatten()))\n",
    "print(\"1st Row with missing values: \")\n",
    "print(X[0])\n",
    "\n",
    "imputer = SimpleImputer(strategy='mean')\n",
    "\n",
    "imputer.fit(X)\n",
    "\n",
    "Xtrans = imputer.transform(X)\n",
    "print(\"=======================================================================\")\n",
    "print('Missing: %d' % sum(isnan(Xtrans).flatten()))\n",
    "print(\"1st Row after filling the values: \")\n",
    "print(Xtrans[0])"
   ]
  },
  {
   "cell_type": "markdown",
   "metadata": {},
   "source": [
    "## Median\n",
    " * Running the below code first loads the dataset and reports the total number of missing values in the dataset as 1,605.\n",
    "\n",
    " * The transform is configured, fit, and performed and the resulting new dataset has no missing values, confirming it was performed as we expected.\n",
    "\n",
    " * Each missing value was replaced with the median value of its column.\n",
    "  \n",
    " * The Result for 1 row is shown."
   ]
  },
  {
   "cell_type": "code",
   "execution_count": 13,
   "metadata": {},
   "outputs": [
    {
     "output_type": "stream",
     "name": "stdout",
     "text": "Missing: 1605\n1st Row with missing values: \n[2.00000e+00 1.00000e+00 5.30101e+05 3.85000e+01 6.60000e+01 2.80000e+01\n 3.00000e+00 3.00000e+00         nan 2.00000e+00 5.00000e+00 4.00000e+00\n 4.00000e+00         nan         nan         nan 3.00000e+00 5.00000e+00\n 4.50000e+01 8.40000e+00         nan         nan 2.00000e+00 1.13000e+04\n 0.00000e+00 0.00000e+00 2.00000e+00]\n=======================================================================\nMissing: 0\n1st Row after filling the values: \n[2.00000e+00 1.00000e+00 5.30101e+05 3.85000e+01 6.60000e+01 2.80000e+01\n 3.00000e+00 3.00000e+00 3.00000e+00 2.00000e+00 5.00000e+00 4.00000e+00\n 4.00000e+00 2.00000e+00 1.00000e+00 5.00000e+00 3.00000e+00 5.00000e+00\n 4.50000e+01 8.40000e+00 2.00000e+00 2.25000e+00 2.00000e+00 1.13000e+04\n 0.00000e+00 0.00000e+00 2.00000e+00]\n"
    }
   ],
   "source": [
    "\n",
    "data = df.values\n",
    "ix = [i for i in range(data.shape[1]) if i != 23]\n",
    "X, y = data[:, ix], data[:, 23]\n",
    "\n",
    "print('Missing: %d' % sum(isnan(X).flatten()))\n",
    "print(\"1st Row with missing values: \")\n",
    "print(X[0])\n",
    "\n",
    "imputer = SimpleImputer(strategy='median')\n",
    "\n",
    "imputer.fit(X)\n",
    "\n",
    "Xtrans = imputer.transform(X)\n",
    "print(\"=======================================================================\")\n",
    "print('Missing: %d' % sum(isnan(Xtrans).flatten()))\n",
    "print(\"1st Row after filling the values: \")\n",
    "print(Xtrans[0])"
   ]
  },
  {
   "cell_type": "markdown",
   "metadata": {},
   "source": [
    "## Mode\n",
    " * Running the below code first loads the dataset and reports the total number of missing values in the dataset as 1,605.\n",
    "\n",
    " * The transform is configured, fit, and performed and the resulting new dataset has no missing values, confirming it was performed as we expected.\n",
    "\n",
    " * Each missing value was replaced with the mode value of its column.\n",
    "  \n",
    " * The Result for 1 row is shown."
   ]
  },
  {
   "cell_type": "code",
   "execution_count": 14,
   "metadata": {
    "scrolled": true
   },
   "outputs": [
    {
     "output_type": "stream",
     "name": "stdout",
     "text": "Missing: 1605\n1st Row with missing values: \n[2.00000e+00 1.00000e+00 5.30101e+05 3.85000e+01 6.60000e+01 2.80000e+01\n 3.00000e+00 3.00000e+00         nan 2.00000e+00 5.00000e+00 4.00000e+00\n 4.00000e+00         nan         nan         nan 3.00000e+00 5.00000e+00\n 4.50000e+01 8.40000e+00         nan         nan 2.00000e+00 1.13000e+04\n 0.00000e+00 0.00000e+00 2.00000e+00]\n=======================================================================\nMissing: 0\n1st Row after filling the values: \n[2.00000e+00 1.00000e+00 5.30101e+05 3.85000e+01 6.60000e+01 2.80000e+01\n 3.00000e+00 3.00000e+00 1.00000e+00 2.00000e+00 5.00000e+00 4.00000e+00\n 4.00000e+00 2.00000e+00 1.00000e+00 2.00000e+00 3.00000e+00 5.00000e+00\n 4.50000e+01 8.40000e+00 2.00000e+00 2.00000e+00 2.00000e+00 1.13000e+04\n 0.00000e+00 0.00000e+00 2.00000e+00]\n"
    }
   ],
   "source": [
    "\n",
    "data = df.values\n",
    "ix = [i for i in range(data.shape[1]) if i != 23]\n",
    "X, y = data[:, ix], data[:, 23]\n",
    "\n",
    "print('Missing: %d' % sum(isnan(X).flatten()))\n",
    "print(\"1st Row with missing values: \")\n",
    "print(X[0])\n",
    "\n",
    "imputer = SimpleImputer(strategy='most_frequent')\n",
    "\n",
    "imputer.fit(X)\n",
    "\n",
    "Xtrans = imputer.transform(X)\n",
    "print(\"=======================================================================\")\n",
    "print('Missing: %d' % sum(isnan(Xtrans).flatten()))\n",
    "print(\"1st Row after filling the values: \")\n",
    "print(Xtrans[0])"
   ]
  },
  {
   "cell_type": "markdown",
   "metadata": {},
   "source": [
    "## Constant\n",
    " * Running the below code first loads the dataset and reports the total number of missing values in the dataset as 1,605.\n",
    "\n",
    " * The transform is configured, fit, and performed and the resulting new dataset has no missing values, confirming it was performed as we expected.\n",
    "\n",
    " * Each missing value was replaced with the 0.\n",
    "  \n",
    " * The Result for 1 row is shown."
   ]
  },
  {
   "cell_type": "code",
   "execution_count": 16,
   "metadata": {},
   "outputs": [
    {
     "output_type": "stream",
     "name": "stdout",
     "text": "Missing: 1605\n1st Row with missing values: \n[2.00000e+00 1.00000e+00 5.30101e+05 3.85000e+01 6.60000e+01 2.80000e+01\n 3.00000e+00 3.00000e+00         nan 2.00000e+00 5.00000e+00 4.00000e+00\n 4.00000e+00         nan         nan         nan 3.00000e+00 5.00000e+00\n 4.50000e+01 8.40000e+00         nan         nan 2.00000e+00 1.13000e+04\n 0.00000e+00 0.00000e+00 2.00000e+00]\n=======================================================================\nMissing: 0\n1st Row after filling the values: \n[2.00000e+00 1.00000e+00 5.30101e+05 3.85000e+01 6.60000e+01 2.80000e+01\n 3.00000e+00 3.00000e+00 0.00000e+00 2.00000e+00 5.00000e+00 4.00000e+00\n 4.00000e+00 0.00000e+00 0.00000e+00 0.00000e+00 3.00000e+00 5.00000e+00\n 4.50000e+01 8.40000e+00 0.00000e+00 0.00000e+00 2.00000e+00 1.13000e+04\n 0.00000e+00 0.00000e+00 2.00000e+00]\n"
    }
   ],
   "source": [
    "data = df.values\n",
    "ix = [i for i in range(data.shape[1]) if i != 23]\n",
    "X, y = data[:, ix], data[:, 23]\n",
    "\n",
    "print('Missing: %d' % sum(isnan(X).flatten()))\n",
    "print(\"1st Row with missing values: \")\n",
    "print(X[0])\n",
    "\n",
    "imputer = SimpleImputer(strategy='constant')\n",
    "\n",
    "imputer.fit(X)\n",
    "\n",
    "Xtrans = imputer.transform(X)\n",
    "print(\"=======================================================================\")\n",
    "print('Missing: %d' % sum(isnan(Xtrans).flatten()))\n",
    "print(\"1st Row after filling the values: \")\n",
    "print(Xtrans[0])"
   ]
  },
  {
   "cell_type": "markdown",
   "metadata": {},
   "source": [
    "## Comparing Different Imputed Statistics\n",
    " * Running the example evaluates each statistical imputation strategy on the horse colic dataset using repeated cross-validation.\n",
    " \n",
    " * The mean accuracy of each strategy is reported along the way. The results suggest that using a constant value, e.g. 0, results in the best performance of about 88.1 percent, which is a good result.\n",
    "\n",
    " * Finally box and whisker plot is plotted for each set of results.\n",
    " \n",
    " * We can see that the distribution of accuracy scores for the constant strategy is better compared to to other strategies.\n",
    " * When it comes categorical values the best method is to go with median since it's second best after constant or mode. "
   ]
  },
  {
   "cell_type": "code",
   "execution_count": 25,
   "metadata": {},
   "outputs": [
    {
     "output_type": "stream",
     "name": "stdout",
     "text": "--->mean 0.858 (0.059)\n--->median 0.859 (0.056)\n--->most_frequent 0.874 (0.061)\n--->constant 0.881 (0.041)\n"
    },
    {
     "output_type": "display_data",
     "data": {
      "text/plain": "<Figure size 432x288 with 1 Axes>",
      "image/svg+xml": "<?xml version=\"1.0\" encoding=\"utf-8\" standalone=\"no\"?>\n<!DOCTYPE svg PUBLIC \"-//W3C//DTD SVG 1.1//EN\"\n  \"http://www.w3.org/Graphics/SVG/1.1/DTD/svg11.dtd\">\n<!-- Created with matplotlib (https://matplotlib.org/) -->\n<svg height=\"248.79625pt\" version=\"1.1\" viewBox=\"0 0 378.465625 248.79625\" width=\"378.465625pt\" xmlns=\"http://www.w3.org/2000/svg\" xmlns:xlink=\"http://www.w3.org/1999/xlink\">\n <metadata>\n  <rdf:RDF xmlns:cc=\"http://creativecommons.org/ns#\" xmlns:dc=\"http://purl.org/dc/elements/1.1/\" xmlns:rdf=\"http://www.w3.org/1999/02/22-rdf-syntax-ns#\">\n   <cc:Work>\n    <dc:type rdf:resource=\"http://purl.org/dc/dcmitype/StillImage\"/>\n    <dc:date>2021-02-25T08:55:00.346514</dc:date>\n    <dc:format>image/svg+xml</dc:format>\n    <dc:creator>\n     <cc:Agent>\n      <dc:title>Matplotlib v3.3.3, https://matplotlib.org/</dc:title>\n     </cc:Agent>\n    </dc:creator>\n   </cc:Work>\n  </rdf:RDF>\n </metadata>\n <defs>\n  <style type=\"text/css\">*{stroke-linecap:butt;stroke-linejoin:round;}</style>\n </defs>\n <g id=\"figure_1\">\n  <g id=\"patch_1\">\n   <path d=\"M 0 248.79625 \nL 378.465625 248.79625 \nL 378.465625 0 \nL 0 0 \nz\n\" style=\"fill:none;\"/>\n  </g>\n  <g id=\"axes_1\">\n   <g id=\"patch_2\">\n    <path d=\"M 36.465625 224.64 \nL 371.265625 224.64 \nL 371.265625 7.2 \nL 36.465625 7.2 \nz\n\" style=\"fill:#ffffff;\"/>\n   </g>\n   <g id=\"matplotlib.axis_1\">\n    <g id=\"xtick_1\">\n     <g id=\"line2d_1\">\n      <defs>\n       <path d=\"M 0 0 \nL 0 3.5 \n\" id=\"m47fd9d0d3f\" style=\"stroke:#000000;stroke-width:0.8;\"/>\n      </defs>\n      <g>\n       <use style=\"stroke:#000000;stroke-width:0.8;\" x=\"78.315625\" xlink:href=\"#m47fd9d0d3f\" y=\"224.64\"/>\n      </g>\n     </g>\n     <g id=\"text_1\">\n      <!-- mean -->\n      <g transform=\"translate(64.135938 239.238438)scale(0.1 -0.1)\">\n       <defs>\n        <path d=\"M 52 44.1875 \nQ 55.375 50.25 60.0625 53.125 \nQ 64.75 56 71.09375 56 \nQ 79.640625 56 84.28125 50.015625 \nQ 88.921875 44.046875 88.921875 33.015625 \nL 88.921875 0 \nL 79.890625 0 \nL 79.890625 32.71875 \nQ 79.890625 40.578125 77.09375 44.375 \nQ 74.3125 48.1875 68.609375 48.1875 \nQ 61.625 48.1875 57.5625 43.546875 \nQ 53.515625 38.921875 53.515625 30.90625 \nL 53.515625 0 \nL 44.484375 0 \nL 44.484375 32.71875 \nQ 44.484375 40.625 41.703125 44.40625 \nQ 38.921875 48.1875 33.109375 48.1875 \nQ 26.21875 48.1875 22.15625 43.53125 \nQ 18.109375 38.875 18.109375 30.90625 \nL 18.109375 0 \nL 9.078125 0 \nL 9.078125 54.6875 \nL 18.109375 54.6875 \nL 18.109375 46.1875 \nQ 21.1875 51.21875 25.484375 53.609375 \nQ 29.78125 56 35.6875 56 \nQ 41.65625 56 45.828125 52.96875 \nQ 50 49.953125 52 44.1875 \nz\n\" id=\"DejaVuSans-109\"/>\n        <path d=\"M 56.203125 29.59375 \nL 56.203125 25.203125 \nL 14.890625 25.203125 \nQ 15.484375 15.921875 20.484375 11.0625 \nQ 25.484375 6.203125 34.421875 6.203125 \nQ 39.59375 6.203125 44.453125 7.46875 \nQ 49.3125 8.734375 54.109375 11.28125 \nL 54.109375 2.78125 \nQ 49.265625 0.734375 44.1875 -0.34375 \nQ 39.109375 -1.421875 33.890625 -1.421875 \nQ 20.796875 -1.421875 13.15625 6.1875 \nQ 5.515625 13.8125 5.515625 26.8125 \nQ 5.515625 40.234375 12.765625 48.109375 \nQ 20.015625 56 32.328125 56 \nQ 43.359375 56 49.78125 48.890625 \nQ 56.203125 41.796875 56.203125 29.59375 \nz\nM 47.21875 32.234375 \nQ 47.125 39.59375 43.09375 43.984375 \nQ 39.0625 48.390625 32.421875 48.390625 \nQ 24.90625 48.390625 20.390625 44.140625 \nQ 15.875 39.890625 15.1875 32.171875 \nz\n\" id=\"DejaVuSans-101\"/>\n        <path d=\"M 34.28125 27.484375 \nQ 23.390625 27.484375 19.1875 25 \nQ 14.984375 22.515625 14.984375 16.5 \nQ 14.984375 11.71875 18.140625 8.90625 \nQ 21.296875 6.109375 26.703125 6.109375 \nQ 34.1875 6.109375 38.703125 11.40625 \nQ 43.21875 16.703125 43.21875 25.484375 \nL 43.21875 27.484375 \nz\nM 52.203125 31.203125 \nL 52.203125 0 \nL 43.21875 0 \nL 43.21875 8.296875 \nQ 40.140625 3.328125 35.546875 0.953125 \nQ 30.953125 -1.421875 24.3125 -1.421875 \nQ 15.921875 -1.421875 10.953125 3.296875 \nQ 6 8.015625 6 15.921875 \nQ 6 25.140625 12.171875 29.828125 \nQ 18.359375 34.515625 30.609375 34.515625 \nL 43.21875 34.515625 \nL 43.21875 35.40625 \nQ 43.21875 41.609375 39.140625 45 \nQ 35.0625 48.390625 27.6875 48.390625 \nQ 23 48.390625 18.546875 47.265625 \nQ 14.109375 46.140625 10.015625 43.890625 \nL 10.015625 52.203125 \nQ 14.9375 54.109375 19.578125 55.046875 \nQ 24.21875 56 28.609375 56 \nQ 40.484375 56 46.34375 49.84375 \nQ 52.203125 43.703125 52.203125 31.203125 \nz\n\" id=\"DejaVuSans-97\"/>\n        <path d=\"M 54.890625 33.015625 \nL 54.890625 0 \nL 45.90625 0 \nL 45.90625 32.71875 \nQ 45.90625 40.484375 42.875 44.328125 \nQ 39.84375 48.1875 33.796875 48.1875 \nQ 26.515625 48.1875 22.3125 43.546875 \nQ 18.109375 38.921875 18.109375 30.90625 \nL 18.109375 0 \nL 9.078125 0 \nL 9.078125 54.6875 \nL 18.109375 54.6875 \nL 18.109375 46.1875 \nQ 21.34375 51.125 25.703125 53.5625 \nQ 30.078125 56 35.796875 56 \nQ 45.21875 56 50.046875 50.171875 \nQ 54.890625 44.34375 54.890625 33.015625 \nz\n\" id=\"DejaVuSans-110\"/>\n       </defs>\n       <use xlink:href=\"#DejaVuSans-109\"/>\n       <use x=\"97.412109\" xlink:href=\"#DejaVuSans-101\"/>\n       <use x=\"158.935547\" xlink:href=\"#DejaVuSans-97\"/>\n       <use x=\"220.214844\" xlink:href=\"#DejaVuSans-110\"/>\n      </g>\n     </g>\n    </g>\n    <g id=\"xtick_2\">\n     <g id=\"line2d_2\">\n      <g>\n       <use style=\"stroke:#000000;stroke-width:0.8;\" x=\"162.015625\" xlink:href=\"#m47fd9d0d3f\" y=\"224.64\"/>\n      </g>\n     </g>\n     <g id=\"text_2\">\n      <!-- median -->\n      <g transform=\"translate(143.272656 239.238438)scale(0.1 -0.1)\">\n       <defs>\n        <path d=\"M 45.40625 46.390625 \nL 45.40625 75.984375 \nL 54.390625 75.984375 \nL 54.390625 0 \nL 45.40625 0 \nL 45.40625 8.203125 \nQ 42.578125 3.328125 38.25 0.953125 \nQ 33.9375 -1.421875 27.875 -1.421875 \nQ 17.96875 -1.421875 11.734375 6.484375 \nQ 5.515625 14.40625 5.515625 27.296875 \nQ 5.515625 40.1875 11.734375 48.09375 \nQ 17.96875 56 27.875 56 \nQ 33.9375 56 38.25 53.625 \nQ 42.578125 51.265625 45.40625 46.390625 \nz\nM 14.796875 27.296875 \nQ 14.796875 17.390625 18.875 11.75 \nQ 22.953125 6.109375 30.078125 6.109375 \nQ 37.203125 6.109375 41.296875 11.75 \nQ 45.40625 17.390625 45.40625 27.296875 \nQ 45.40625 37.203125 41.296875 42.84375 \nQ 37.203125 48.484375 30.078125 48.484375 \nQ 22.953125 48.484375 18.875 42.84375 \nQ 14.796875 37.203125 14.796875 27.296875 \nz\n\" id=\"DejaVuSans-100\"/>\n        <path d=\"M 9.421875 54.6875 \nL 18.40625 54.6875 \nL 18.40625 0 \nL 9.421875 0 \nz\nM 9.421875 75.984375 \nL 18.40625 75.984375 \nL 18.40625 64.59375 \nL 9.421875 64.59375 \nz\n\" id=\"DejaVuSans-105\"/>\n       </defs>\n       <use xlink:href=\"#DejaVuSans-109\"/>\n       <use x=\"97.412109\" xlink:href=\"#DejaVuSans-101\"/>\n       <use x=\"158.935547\" xlink:href=\"#DejaVuSans-100\"/>\n       <use x=\"222.412109\" xlink:href=\"#DejaVuSans-105\"/>\n       <use x=\"250.195312\" xlink:href=\"#DejaVuSans-97\"/>\n       <use x=\"311.474609\" xlink:href=\"#DejaVuSans-110\"/>\n      </g>\n     </g>\n    </g>\n    <g id=\"xtick_3\">\n     <g id=\"line2d_3\">\n      <g>\n       <use style=\"stroke:#000000;stroke-width:0.8;\" x=\"245.715625\" xlink:href=\"#m47fd9d0d3f\" y=\"224.64\"/>\n      </g>\n     </g>\n     <g id=\"text_3\">\n      <!-- most_frequent -->\n      <g transform=\"translate(209.392969 239.238438)scale(0.1 -0.1)\">\n       <defs>\n        <path d=\"M 30.609375 48.390625 \nQ 23.390625 48.390625 19.1875 42.75 \nQ 14.984375 37.109375 14.984375 27.296875 \nQ 14.984375 17.484375 19.15625 11.84375 \nQ 23.34375 6.203125 30.609375 6.203125 \nQ 37.796875 6.203125 41.984375 11.859375 \nQ 46.1875 17.53125 46.1875 27.296875 \nQ 46.1875 37.015625 41.984375 42.703125 \nQ 37.796875 48.390625 30.609375 48.390625 \nz\nM 30.609375 56 \nQ 42.328125 56 49.015625 48.375 \nQ 55.71875 40.765625 55.71875 27.296875 \nQ 55.71875 13.875 49.015625 6.21875 \nQ 42.328125 -1.421875 30.609375 -1.421875 \nQ 18.84375 -1.421875 12.171875 6.21875 \nQ 5.515625 13.875 5.515625 27.296875 \nQ 5.515625 40.765625 12.171875 48.375 \nQ 18.84375 56 30.609375 56 \nz\n\" id=\"DejaVuSans-111\"/>\n        <path d=\"M 44.28125 53.078125 \nL 44.28125 44.578125 \nQ 40.484375 46.53125 36.375 47.5 \nQ 32.28125 48.484375 27.875 48.484375 \nQ 21.1875 48.484375 17.84375 46.4375 \nQ 14.5 44.390625 14.5 40.28125 \nQ 14.5 37.15625 16.890625 35.375 \nQ 19.28125 33.59375 26.515625 31.984375 \nL 29.59375 31.296875 \nQ 39.15625 29.25 43.1875 25.515625 \nQ 47.21875 21.78125 47.21875 15.09375 \nQ 47.21875 7.46875 41.1875 3.015625 \nQ 35.15625 -1.421875 24.609375 -1.421875 \nQ 20.21875 -1.421875 15.453125 -0.5625 \nQ 10.6875 0.296875 5.421875 2 \nL 5.421875 11.28125 \nQ 10.40625 8.6875 15.234375 7.390625 \nQ 20.0625 6.109375 24.8125 6.109375 \nQ 31.15625 6.109375 34.5625 8.28125 \nQ 37.984375 10.453125 37.984375 14.40625 \nQ 37.984375 18.0625 35.515625 20.015625 \nQ 33.0625 21.96875 24.703125 23.78125 \nL 21.578125 24.515625 \nQ 13.234375 26.265625 9.515625 29.90625 \nQ 5.8125 33.546875 5.8125 39.890625 \nQ 5.8125 47.609375 11.28125 51.796875 \nQ 16.75 56 26.8125 56 \nQ 31.78125 56 36.171875 55.265625 \nQ 40.578125 54.546875 44.28125 53.078125 \nz\n\" id=\"DejaVuSans-115\"/>\n        <path d=\"M 18.3125 70.21875 \nL 18.3125 54.6875 \nL 36.8125 54.6875 \nL 36.8125 47.703125 \nL 18.3125 47.703125 \nL 18.3125 18.015625 \nQ 18.3125 11.328125 20.140625 9.421875 \nQ 21.96875 7.515625 27.59375 7.515625 \nL 36.8125 7.515625 \nL 36.8125 0 \nL 27.59375 0 \nQ 17.1875 0 13.234375 3.875 \nQ 9.28125 7.765625 9.28125 18.015625 \nL 9.28125 47.703125 \nL 2.6875 47.703125 \nL 2.6875 54.6875 \nL 9.28125 54.6875 \nL 9.28125 70.21875 \nz\n\" id=\"DejaVuSans-116\"/>\n        <path d=\"M 50.984375 -16.609375 \nL 50.984375 -23.578125 \nL -0.984375 -23.578125 \nL -0.984375 -16.609375 \nz\n\" id=\"DejaVuSans-95\"/>\n        <path d=\"M 37.109375 75.984375 \nL 37.109375 68.5 \nL 28.515625 68.5 \nQ 23.6875 68.5 21.796875 66.546875 \nQ 19.921875 64.59375 19.921875 59.515625 \nL 19.921875 54.6875 \nL 34.71875 54.6875 \nL 34.71875 47.703125 \nL 19.921875 47.703125 \nL 19.921875 0 \nL 10.890625 0 \nL 10.890625 47.703125 \nL 2.296875 47.703125 \nL 2.296875 54.6875 \nL 10.890625 54.6875 \nL 10.890625 58.5 \nQ 10.890625 67.625 15.140625 71.796875 \nQ 19.390625 75.984375 28.609375 75.984375 \nz\n\" id=\"DejaVuSans-102\"/>\n        <path d=\"M 41.109375 46.296875 \nQ 39.59375 47.171875 37.8125 47.578125 \nQ 36.03125 48 33.890625 48 \nQ 26.265625 48 22.1875 43.046875 \nQ 18.109375 38.09375 18.109375 28.8125 \nL 18.109375 0 \nL 9.078125 0 \nL 9.078125 54.6875 \nL 18.109375 54.6875 \nL 18.109375 46.1875 \nQ 20.953125 51.171875 25.484375 53.578125 \nQ 30.03125 56 36.53125 56 \nQ 37.453125 56 38.578125 55.875 \nQ 39.703125 55.765625 41.0625 55.515625 \nz\n\" id=\"DejaVuSans-114\"/>\n        <path d=\"M 14.796875 27.296875 \nQ 14.796875 17.390625 18.875 11.75 \nQ 22.953125 6.109375 30.078125 6.109375 \nQ 37.203125 6.109375 41.296875 11.75 \nQ 45.40625 17.390625 45.40625 27.296875 \nQ 45.40625 37.203125 41.296875 42.84375 \nQ 37.203125 48.484375 30.078125 48.484375 \nQ 22.953125 48.484375 18.875 42.84375 \nQ 14.796875 37.203125 14.796875 27.296875 \nz\nM 45.40625 8.203125 \nQ 42.578125 3.328125 38.25 0.953125 \nQ 33.9375 -1.421875 27.875 -1.421875 \nQ 17.96875 -1.421875 11.734375 6.484375 \nQ 5.515625 14.40625 5.515625 27.296875 \nQ 5.515625 40.1875 11.734375 48.09375 \nQ 17.96875 56 27.875 56 \nQ 33.9375 56 38.25 53.625 \nQ 42.578125 51.265625 45.40625 46.390625 \nL 45.40625 54.6875 \nL 54.390625 54.6875 \nL 54.390625 -20.796875 \nL 45.40625 -20.796875 \nz\n\" id=\"DejaVuSans-113\"/>\n        <path d=\"M 8.5 21.578125 \nL 8.5 54.6875 \nL 17.484375 54.6875 \nL 17.484375 21.921875 \nQ 17.484375 14.15625 20.5 10.265625 \nQ 23.53125 6.390625 29.59375 6.390625 \nQ 36.859375 6.390625 41.078125 11.03125 \nQ 45.3125 15.671875 45.3125 23.6875 \nL 45.3125 54.6875 \nL 54.296875 54.6875 \nL 54.296875 0 \nL 45.3125 0 \nL 45.3125 8.40625 \nQ 42.046875 3.421875 37.71875 1 \nQ 33.40625 -1.421875 27.6875 -1.421875 \nQ 18.265625 -1.421875 13.375 4.4375 \nQ 8.5 10.296875 8.5 21.578125 \nz\nM 31.109375 56 \nz\n\" id=\"DejaVuSans-117\"/>\n       </defs>\n       <use xlink:href=\"#DejaVuSans-109\"/>\n       <use x=\"97.412109\" xlink:href=\"#DejaVuSans-111\"/>\n       <use x=\"158.59375\" xlink:href=\"#DejaVuSans-115\"/>\n       <use x=\"210.693359\" xlink:href=\"#DejaVuSans-116\"/>\n       <use x=\"249.902344\" xlink:href=\"#DejaVuSans-95\"/>\n       <use x=\"299.902344\" xlink:href=\"#DejaVuSans-102\"/>\n       <use x=\"335.107422\" xlink:href=\"#DejaVuSans-114\"/>\n       <use x=\"373.970703\" xlink:href=\"#DejaVuSans-101\"/>\n       <use x=\"435.494141\" xlink:href=\"#DejaVuSans-113\"/>\n       <use x=\"498.970703\" xlink:href=\"#DejaVuSans-117\"/>\n       <use x=\"562.349609\" xlink:href=\"#DejaVuSans-101\"/>\n       <use x=\"623.873047\" xlink:href=\"#DejaVuSans-110\"/>\n       <use x=\"687.251953\" xlink:href=\"#DejaVuSans-116\"/>\n      </g>\n     </g>\n    </g>\n    <g id=\"xtick_4\">\n     <g id=\"line2d_4\">\n      <g>\n       <use style=\"stroke:#000000;stroke-width:0.8;\" x=\"329.415625\" xlink:href=\"#m47fd9d0d3f\" y=\"224.64\"/>\n      </g>\n     </g>\n     <g id=\"text_4\">\n      <!-- constant -->\n      <g transform=\"translate(307.680469 239.238438)scale(0.1 -0.1)\">\n       <defs>\n        <path d=\"M 48.78125 52.59375 \nL 48.78125 44.1875 \nQ 44.96875 46.296875 41.140625 47.34375 \nQ 37.3125 48.390625 33.40625 48.390625 \nQ 24.65625 48.390625 19.8125 42.84375 \nQ 14.984375 37.3125 14.984375 27.296875 \nQ 14.984375 17.28125 19.8125 11.734375 \nQ 24.65625 6.203125 33.40625 6.203125 \nQ 37.3125 6.203125 41.140625 7.25 \nQ 44.96875 8.296875 48.78125 10.40625 \nL 48.78125 2.09375 \nQ 45.015625 0.34375 40.984375 -0.53125 \nQ 36.96875 -1.421875 32.421875 -1.421875 \nQ 20.0625 -1.421875 12.78125 6.34375 \nQ 5.515625 14.109375 5.515625 27.296875 \nQ 5.515625 40.671875 12.859375 48.328125 \nQ 20.21875 56 33.015625 56 \nQ 37.15625 56 41.109375 55.140625 \nQ 45.0625 54.296875 48.78125 52.59375 \nz\n\" id=\"DejaVuSans-99\"/>\n       </defs>\n       <use xlink:href=\"#DejaVuSans-99\"/>\n       <use x=\"54.980469\" xlink:href=\"#DejaVuSans-111\"/>\n       <use x=\"116.162109\" xlink:href=\"#DejaVuSans-110\"/>\n       <use x=\"179.541016\" xlink:href=\"#DejaVuSans-115\"/>\n       <use x=\"231.640625\" xlink:href=\"#DejaVuSans-116\"/>\n       <use x=\"270.849609\" xlink:href=\"#DejaVuSans-97\"/>\n       <use x=\"332.128906\" xlink:href=\"#DejaVuSans-110\"/>\n       <use x=\"395.507812\" xlink:href=\"#DejaVuSans-116\"/>\n      </g>\n     </g>\n    </g>\n   </g>\n   <g id=\"matplotlib.axis_2\">\n    <g id=\"ytick_1\">\n     <g id=\"line2d_5\">\n      <defs>\n       <path d=\"M 0 0 \nL -3.5 0 \n\" id=\"ma06037d161\" style=\"stroke:#000000;stroke-width:0.8;\"/>\n      </defs>\n      <g>\n       <use style=\"stroke:#000000;stroke-width:0.8;\" x=\"36.465625\" xlink:href=\"#ma06037d161\" y=\"200.636883\"/>\n      </g>\n     </g>\n     <g id=\"text_5\">\n      <!-- 0.75 -->\n      <g transform=\"translate(7.2 204.436102)scale(0.1 -0.1)\">\n       <defs>\n        <path d=\"M 31.78125 66.40625 \nQ 24.171875 66.40625 20.328125 58.90625 \nQ 16.5 51.421875 16.5 36.375 \nQ 16.5 21.390625 20.328125 13.890625 \nQ 24.171875 6.390625 31.78125 6.390625 \nQ 39.453125 6.390625 43.28125 13.890625 \nQ 47.125 21.390625 47.125 36.375 \nQ 47.125 51.421875 43.28125 58.90625 \nQ 39.453125 66.40625 31.78125 66.40625 \nz\nM 31.78125 74.21875 \nQ 44.046875 74.21875 50.515625 64.515625 \nQ 56.984375 54.828125 56.984375 36.375 \nQ 56.984375 17.96875 50.515625 8.265625 \nQ 44.046875 -1.421875 31.78125 -1.421875 \nQ 19.53125 -1.421875 13.0625 8.265625 \nQ 6.59375 17.96875 6.59375 36.375 \nQ 6.59375 54.828125 13.0625 64.515625 \nQ 19.53125 74.21875 31.78125 74.21875 \nz\n\" id=\"DejaVuSans-48\"/>\n        <path d=\"M 10.6875 12.40625 \nL 21 12.40625 \nL 21 0 \nL 10.6875 0 \nz\n\" id=\"DejaVuSans-46\"/>\n        <path d=\"M 8.203125 72.90625 \nL 55.078125 72.90625 \nL 55.078125 68.703125 \nL 28.609375 0 \nL 18.3125 0 \nL 43.21875 64.59375 \nL 8.203125 64.59375 \nz\n\" id=\"DejaVuSans-55\"/>\n        <path d=\"M 10.796875 72.90625 \nL 49.515625 72.90625 \nL 49.515625 64.59375 \nL 19.828125 64.59375 \nL 19.828125 46.734375 \nQ 21.96875 47.46875 24.109375 47.828125 \nQ 26.265625 48.1875 28.421875 48.1875 \nQ 40.625 48.1875 47.75 41.5 \nQ 54.890625 34.8125 54.890625 23.390625 \nQ 54.890625 11.625 47.5625 5.09375 \nQ 40.234375 -1.421875 26.90625 -1.421875 \nQ 22.3125 -1.421875 17.546875 -0.640625 \nQ 12.796875 0.140625 7.71875 1.703125 \nL 7.71875 11.625 \nQ 12.109375 9.234375 16.796875 8.0625 \nQ 21.484375 6.890625 26.703125 6.890625 \nQ 35.15625 6.890625 40.078125 11.328125 \nQ 45.015625 15.765625 45.015625 23.390625 \nQ 45.015625 31 40.078125 35.4375 \nQ 35.15625 39.890625 26.703125 39.890625 \nQ 22.75 39.890625 18.8125 39.015625 \nQ 14.890625 38.140625 10.796875 36.28125 \nz\n\" id=\"DejaVuSans-53\"/>\n       </defs>\n       <use xlink:href=\"#DejaVuSans-48\"/>\n       <use x=\"63.623047\" xlink:href=\"#DejaVuSans-46\"/>\n       <use x=\"95.410156\" xlink:href=\"#DejaVuSans-55\"/>\n       <use x=\"159.033203\" xlink:href=\"#DejaVuSans-53\"/>\n      </g>\n     </g>\n    </g>\n    <g id=\"ytick_2\">\n     <g id=\"line2d_6\">\n      <g>\n       <use style=\"stroke:#000000;stroke-width:0.8;\" x=\"36.465625\" xlink:href=\"#ma06037d161\" y=\"158.278442\"/>\n      </g>\n     </g>\n     <g id=\"text_6\">\n      <!-- 0.80 -->\n      <g transform=\"translate(7.2 162.07766)scale(0.1 -0.1)\">\n       <defs>\n        <path d=\"M 31.78125 34.625 \nQ 24.75 34.625 20.71875 30.859375 \nQ 16.703125 27.09375 16.703125 20.515625 \nQ 16.703125 13.921875 20.71875 10.15625 \nQ 24.75 6.390625 31.78125 6.390625 \nQ 38.8125 6.390625 42.859375 10.171875 \nQ 46.921875 13.96875 46.921875 20.515625 \nQ 46.921875 27.09375 42.890625 30.859375 \nQ 38.875 34.625 31.78125 34.625 \nz\nM 21.921875 38.8125 \nQ 15.578125 40.375 12.03125 44.71875 \nQ 8.5 49.078125 8.5 55.328125 \nQ 8.5 64.0625 14.71875 69.140625 \nQ 20.953125 74.21875 31.78125 74.21875 \nQ 42.671875 74.21875 48.875 69.140625 \nQ 55.078125 64.0625 55.078125 55.328125 \nQ 55.078125 49.078125 51.53125 44.71875 \nQ 48 40.375 41.703125 38.8125 \nQ 48.828125 37.15625 52.796875 32.3125 \nQ 56.78125 27.484375 56.78125 20.515625 \nQ 56.78125 9.90625 50.3125 4.234375 \nQ 43.84375 -1.421875 31.78125 -1.421875 \nQ 19.734375 -1.421875 13.25 4.234375 \nQ 6.78125 9.90625 6.78125 20.515625 \nQ 6.78125 27.484375 10.78125 32.3125 \nQ 14.796875 37.15625 21.921875 38.8125 \nz\nM 18.3125 54.390625 \nQ 18.3125 48.734375 21.84375 45.5625 \nQ 25.390625 42.390625 31.78125 42.390625 \nQ 38.140625 42.390625 41.71875 45.5625 \nQ 45.3125 48.734375 45.3125 54.390625 \nQ 45.3125 60.0625 41.71875 63.234375 \nQ 38.140625 66.40625 31.78125 66.40625 \nQ 25.390625 66.40625 21.84375 63.234375 \nQ 18.3125 60.0625 18.3125 54.390625 \nz\n\" id=\"DejaVuSans-56\"/>\n       </defs>\n       <use xlink:href=\"#DejaVuSans-48\"/>\n       <use x=\"63.623047\" xlink:href=\"#DejaVuSans-46\"/>\n       <use x=\"95.410156\" xlink:href=\"#DejaVuSans-56\"/>\n       <use x=\"159.033203\" xlink:href=\"#DejaVuSans-48\"/>\n      </g>\n     </g>\n    </g>\n    <g id=\"ytick_3\">\n     <g id=\"line2d_7\">\n      <g>\n       <use style=\"stroke:#000000;stroke-width:0.8;\" x=\"36.465625\" xlink:href=\"#ma06037d161\" y=\"115.92\"/>\n      </g>\n     </g>\n     <g id=\"text_7\">\n      <!-- 0.85 -->\n      <g transform=\"translate(7.2 119.719219)scale(0.1 -0.1)\">\n       <use xlink:href=\"#DejaVuSans-48\"/>\n       <use x=\"63.623047\" xlink:href=\"#DejaVuSans-46\"/>\n       <use x=\"95.410156\" xlink:href=\"#DejaVuSans-56\"/>\n       <use x=\"159.033203\" xlink:href=\"#DejaVuSans-53\"/>\n      </g>\n     </g>\n    </g>\n    <g id=\"ytick_4\">\n     <g id=\"line2d_8\">\n      <g>\n       <use style=\"stroke:#000000;stroke-width:0.8;\" x=\"36.465625\" xlink:href=\"#ma06037d161\" y=\"73.561558\"/>\n      </g>\n     </g>\n     <g id=\"text_8\">\n      <!-- 0.90 -->\n      <g transform=\"translate(7.2 77.360777)scale(0.1 -0.1)\">\n       <defs>\n        <path d=\"M 10.984375 1.515625 \nL 10.984375 10.5 \nQ 14.703125 8.734375 18.5 7.8125 \nQ 22.3125 6.890625 25.984375 6.890625 \nQ 35.75 6.890625 40.890625 13.453125 \nQ 46.046875 20.015625 46.78125 33.40625 \nQ 43.953125 29.203125 39.59375 26.953125 \nQ 35.25 24.703125 29.984375 24.703125 \nQ 19.046875 24.703125 12.671875 31.3125 \nQ 6.296875 37.9375 6.296875 49.421875 \nQ 6.296875 60.640625 12.9375 67.421875 \nQ 19.578125 74.21875 30.609375 74.21875 \nQ 43.265625 74.21875 49.921875 64.515625 \nQ 56.59375 54.828125 56.59375 36.375 \nQ 56.59375 19.140625 48.40625 8.859375 \nQ 40.234375 -1.421875 26.421875 -1.421875 \nQ 22.703125 -1.421875 18.890625 -0.6875 \nQ 15.09375 0.046875 10.984375 1.515625 \nz\nM 30.609375 32.421875 \nQ 37.25 32.421875 41.125 36.953125 \nQ 45.015625 41.5 45.015625 49.421875 \nQ 45.015625 57.28125 41.125 61.84375 \nQ 37.25 66.40625 30.609375 66.40625 \nQ 23.96875 66.40625 20.09375 61.84375 \nQ 16.21875 57.28125 16.21875 49.421875 \nQ 16.21875 41.5 20.09375 36.953125 \nQ 23.96875 32.421875 30.609375 32.421875 \nz\n\" id=\"DejaVuSans-57\"/>\n       </defs>\n       <use xlink:href=\"#DejaVuSans-48\"/>\n       <use x=\"63.623047\" xlink:href=\"#DejaVuSans-46\"/>\n       <use x=\"95.410156\" xlink:href=\"#DejaVuSans-57\"/>\n       <use x=\"159.033203\" xlink:href=\"#DejaVuSans-48\"/>\n      </g>\n     </g>\n    </g>\n    <g id=\"ytick_5\">\n     <g id=\"line2d_9\">\n      <g>\n       <use style=\"stroke:#000000;stroke-width:0.8;\" x=\"36.465625\" xlink:href=\"#ma06037d161\" y=\"31.203117\"/>\n      </g>\n     </g>\n     <g id=\"text_9\">\n      <!-- 0.95 -->\n      <g transform=\"translate(7.2 35.002336)scale(0.1 -0.1)\">\n       <use xlink:href=\"#DejaVuSans-48\"/>\n       <use x=\"63.623047\" xlink:href=\"#DejaVuSans-46\"/>\n       <use x=\"95.410156\" xlink:href=\"#DejaVuSans-57\"/>\n       <use x=\"159.033203\" xlink:href=\"#DejaVuSans-53\"/>\n      </g>\n     </g>\n    </g>\n   </g>\n   <g id=\"line2d_10\">\n    <path clip-path=\"url(#p8ff7b40a53)\" d=\"M 59.483125 158.278442 \nL 97.148125 158.278442 \nL 97.148125 73.561558 \nL 59.483125 73.561558 \nL 59.483125 158.278442 \n\" style=\"fill:none;stroke:#000000;stroke-linecap:square;\"/>\n   </g>\n   <g id=\"line2d_11\">\n    <path clip-path=\"url(#p8ff7b40a53)\" d=\"M 78.315625 158.278442 \nL 78.315625 214.756364 \n\" style=\"fill:none;stroke:#000000;stroke-linecap:square;\"/>\n   </g>\n   <g id=\"line2d_12\">\n    <path clip-path=\"url(#p8ff7b40a53)\" d=\"M 78.315625 73.561558 \nL 78.315625 45.322597 \n\" style=\"fill:none;stroke:#000000;stroke-linecap:square;\"/>\n   </g>\n   <g id=\"line2d_13\">\n    <path clip-path=\"url(#p8ff7b40a53)\" d=\"M 68.899375 214.756364 \nL 87.731875 214.756364 \n\" style=\"fill:none;stroke:#000000;stroke-linecap:square;\"/>\n   </g>\n   <g id=\"line2d_14\">\n    <path clip-path=\"url(#p8ff7b40a53)\" d=\"M 68.899375 45.322597 \nL 87.731875 45.322597 \n\" style=\"fill:none;stroke:#000000;stroke-linecap:square;\"/>\n   </g>\n   <g id=\"line2d_15\"/>\n   <g id=\"line2d_16\">\n    <path clip-path=\"url(#p8ff7b40a53)\" d=\"M 143.183125 151.218701 \nL 180.848125 151.218701 \nL 180.848125 73.561558 \nL 143.183125 73.561558 \nL 143.183125 151.218701 \n\" style=\"fill:none;stroke:#000000;stroke-linecap:square;\"/>\n   </g>\n   <g id=\"line2d_17\">\n    <path clip-path=\"url(#p8ff7b40a53)\" d=\"M 162.015625 151.218701 \nL 162.015625 214.756364 \n\" style=\"fill:none;stroke:#000000;stroke-linecap:square;\"/>\n   </g>\n   <g id=\"line2d_18\">\n    <path clip-path=\"url(#p8ff7b40a53)\" d=\"M 162.015625 73.561558 \nL 162.015625 45.322597 \n\" style=\"fill:none;stroke:#000000;stroke-linecap:square;\"/>\n   </g>\n   <g id=\"line2d_19\">\n    <path clip-path=\"url(#p8ff7b40a53)\" d=\"M 152.599375 214.756364 \nL 171.431875 214.756364 \n\" style=\"fill:none;stroke:#000000;stroke-linecap:square;\"/>\n   </g>\n   <g id=\"line2d_20\">\n    <path clip-path=\"url(#p8ff7b40a53)\" d=\"M 152.599375 45.322597 \nL 171.431875 45.322597 \n\" style=\"fill:none;stroke:#000000;stroke-linecap:square;\"/>\n   </g>\n   <g id=\"line2d_21\"/>\n   <g id=\"line2d_22\">\n    <path clip-path=\"url(#p8ff7b40a53)\" d=\"M 226.883125 130.039481 \nL 264.548125 130.039481 \nL 264.548125 45.322597 \nL 226.883125 45.322597 \nL 226.883125 130.039481 \n\" style=\"fill:none;stroke:#000000;stroke-linecap:square;\"/>\n   </g>\n   <g id=\"line2d_23\">\n    <path clip-path=\"url(#p8ff7b40a53)\" d=\"M 245.715625 130.039481 \nL 245.715625 214.756364 \n\" style=\"fill:none;stroke:#000000;stroke-linecap:square;\"/>\n   </g>\n   <g id=\"line2d_24\">\n    <path clip-path=\"url(#p8ff7b40a53)\" d=\"M 245.715625 45.322597 \nL 245.715625 17.083636 \n\" style=\"fill:none;stroke:#000000;stroke-linecap:square;\"/>\n   </g>\n   <g id=\"line2d_25\">\n    <path clip-path=\"url(#p8ff7b40a53)\" d=\"M 236.299375 214.756364 \nL 255.131875 214.756364 \n\" style=\"fill:none;stroke:#000000;stroke-linecap:square;\"/>\n   </g>\n   <g id=\"line2d_26\">\n    <path clip-path=\"url(#p8ff7b40a53)\" d=\"M 236.299375 17.083636 \nL 255.131875 17.083636 \n\" style=\"fill:none;stroke:#000000;stroke-linecap:square;\"/>\n   </g>\n   <g id=\"line2d_27\"/>\n   <g id=\"line2d_28\">\n    <path clip-path=\"url(#p8ff7b40a53)\" d=\"M 310.583125 101.800519 \nL 348.248125 101.800519 \nL 348.248125 73.561558 \nL 310.583125 73.561558 \nL 310.583125 101.800519 \n\" style=\"fill:none;stroke:#000000;stroke-linecap:square;\"/>\n   </g>\n   <g id=\"line2d_29\">\n    <path clip-path=\"url(#p8ff7b40a53)\" d=\"M 329.415625 101.800519 \nL 329.415625 130.039481 \n\" style=\"fill:none;stroke:#000000;stroke-linecap:square;\"/>\n   </g>\n   <g id=\"line2d_30\">\n    <path clip-path=\"url(#p8ff7b40a53)\" d=\"M 329.415625 73.561558 \nL 329.415625 45.322597 \n\" style=\"fill:none;stroke:#000000;stroke-linecap:square;\"/>\n   </g>\n   <g id=\"line2d_31\">\n    <path clip-path=\"url(#p8ff7b40a53)\" d=\"M 319.999375 130.039481 \nL 338.831875 130.039481 \n\" style=\"fill:none;stroke:#000000;stroke-linecap:square;\"/>\n   </g>\n   <g id=\"line2d_32\">\n    <path clip-path=\"url(#p8ff7b40a53)\" d=\"M 319.999375 45.322597 \nL 338.831875 45.322597 \n\" style=\"fill:none;stroke:#000000;stroke-linecap:square;\"/>\n   </g>\n   <g id=\"line2d_33\">\n    <defs>\n     <path d=\"M 0 3 \nC 0.795609 3 1.55874 2.683901 2.12132 2.12132 \nC 2.683901 1.55874 3 0.795609 3 0 \nC 3 -0.795609 2.683901 -1.55874 2.12132 -2.12132 \nC 1.55874 -2.683901 0.795609 -3 0 -3 \nC -0.795609 -3 -1.55874 -2.683901 -2.12132 -2.12132 \nC -2.683901 -1.55874 -3 -0.795609 -3 0 \nC -3 0.795609 -2.683901 1.55874 -2.12132 2.12132 \nC -1.55874 2.683901 -0.795609 3 0 3 \nz\n\" id=\"mb46df719cd\" style=\"stroke:#000000;\"/>\n    </defs>\n    <g clip-path=\"url(#p8ff7b40a53)\">\n     <use style=\"fill-opacity:0;stroke:#000000;\" x=\"329.415625\" xlink:href=\"#mb46df719cd\" y=\"158.278442\"/>\n     <use style=\"fill-opacity:0;stroke:#000000;\" x=\"329.415625\" xlink:href=\"#mb46df719cd\" y=\"158.278442\"/>\n     <use style=\"fill-opacity:0;stroke:#000000;\" x=\"329.415625\" xlink:href=\"#mb46df719cd\" y=\"17.083636\"/>\n    </g>\n   </g>\n   <g id=\"line2d_34\">\n    <path clip-path=\"url(#p8ff7b40a53)\" d=\"M 59.483125 101.800519 \nL 97.148125 101.800519 \n\" style=\"fill:none;stroke:#ff7f0e;stroke-linecap:square;\"/>\n   </g>\n   <g id=\"line2d_35\">\n    <defs>\n     <path d=\"M 0 -3 \nL -3 3 \nL 3 3 \nz\n\" id=\"mb9a1e76835\" style=\"stroke:#2ca02c;stroke-linejoin:miter;\"/>\n    </defs>\n    <g clip-path=\"url(#p8ff7b40a53)\">\n     <use style=\"fill:#2ca02c;stroke:#2ca02c;stroke-linejoin:miter;\" x=\"78.315625\" xlink:href=\"#mb9a1e76835\" y=\"109.330909\"/>\n    </g>\n   </g>\n   <g id=\"line2d_36\">\n    <path clip-path=\"url(#p8ff7b40a53)\" d=\"M 143.183125 101.800519 \nL 180.848125 101.800519 \n\" style=\"fill:none;stroke:#ff7f0e;stroke-linecap:square;\"/>\n   </g>\n   <g id=\"line2d_37\">\n    <g clip-path=\"url(#p8ff7b40a53)\">\n     <use style=\"fill:#2ca02c;stroke:#2ca02c;stroke-linejoin:miter;\" x=\"162.015625\" xlink:href=\"#mb9a1e76835\" y=\"108.38961\"/>\n    </g>\n   </g>\n   <g id=\"line2d_38\">\n    <path clip-path=\"url(#p8ff7b40a53)\" d=\"M 226.883125 87.681039 \nL 264.548125 87.681039 \n\" style=\"fill:none;stroke:#ff7f0e;stroke-linecap:square;\"/>\n   </g>\n   <g id=\"line2d_39\">\n    <g clip-path=\"url(#p8ff7b40a53)\">\n     <use style=\"fill:#2ca02c;stroke:#2ca02c;stroke-linejoin:miter;\" x=\"245.715625\" xlink:href=\"#mb9a1e76835\" y=\"95.211429\"/>\n    </g>\n   </g>\n   <g id=\"line2d_40\">\n    <path clip-path=\"url(#p8ff7b40a53)\" d=\"M 310.583125 101.800519 \nL 348.248125 101.800519 \n\" style=\"fill:none;stroke:#ff7f0e;stroke-linecap:square;\"/>\n   </g>\n   <g id=\"line2d_41\">\n    <g clip-path=\"url(#p8ff7b40a53)\">\n     <use style=\"fill:#2ca02c;stroke:#2ca02c;stroke-linejoin:miter;\" x=\"329.415625\" xlink:href=\"#mb9a1e76835\" y=\"89.563636\"/>\n    </g>\n   </g>\n   <g id=\"patch_3\">\n    <path d=\"M 36.465625 224.64 \nL 36.465625 7.2 \n\" style=\"fill:none;stroke:#000000;stroke-linecap:square;stroke-linejoin:miter;stroke-width:0.8;\"/>\n   </g>\n   <g id=\"patch_4\">\n    <path d=\"M 371.265625 224.64 \nL 371.265625 7.2 \n\" style=\"fill:none;stroke:#000000;stroke-linecap:square;stroke-linejoin:miter;stroke-width:0.8;\"/>\n   </g>\n   <g id=\"patch_5\">\n    <path d=\"M 36.465625 224.64 \nL 371.265625 224.64 \n\" style=\"fill:none;stroke:#000000;stroke-linecap:square;stroke-linejoin:miter;stroke-width:0.8;\"/>\n   </g>\n   <g id=\"patch_6\">\n    <path d=\"M 36.465625 7.2 \nL 371.265625 7.2 \n\" style=\"fill:none;stroke:#000000;stroke-linecap:square;stroke-linejoin:miter;stroke-width:0.8;\"/>\n   </g>\n  </g>\n </g>\n <defs>\n  <clipPath id=\"p8ff7b40a53\">\n   <rect height=\"217.44\" width=\"334.8\" x=\"36.465625\" y=\"7.2\"/>\n  </clipPath>\n </defs>\n</svg>\n",
      "image/png": "[encoded data removed]"
     },
     "metadata": {
      "needs_background": "light"
     }
    }
   ],
   "source": [
    "ix = [i for i in range(data.shape[1]) if i != 23]\n",
    "X, y = data[:, ix], data[:, 23]\n",
    "\n",
    "results = list()\n",
    "strategies = ['mean', 'median', 'most_frequent', 'constant']\n",
    "for s in strategies:\n",
    "\tpipeline = Pipeline(steps=[('i', SimpleImputer(strategy=s)), ('m', RandomForestClassifier())])\n",
    "\tcv = RepeatedStratifiedKFold(n_splits=10, n_repeats=3, random_state=1)\n",
    "\tscores = cross_val_score(pipeline, X, y, scoring='accuracy', cv=cv, n_jobs=-1)\n",
    "\tresults.append(scores)\n",
    "\tprint('--->%s %.3f (%.3f)' % (s, mean(scores), std(scores)))\n",
    "\n",
    "pyplot.boxplot(results, labels=strategies, showmeans=True)\n",
    "pyplot.show()"
   ]
  },
  {
   "cell_type": "markdown",
   "metadata": {},
   "source": [
    "# Data Set Description \n",
    "### Title \n",
    "Horse Colic database\n",
    "\n",
    "### Number of Instances: \n",
    "368 (300 for training, 68 for testing)\n",
    "\n",
    "### Number of attributes: \n",
    "28\n",
    "\n",
    "### Attribute Information:\n",
    "\n",
    "1) surgery:\n",
    "   * 1 = Yes, it had surgery\n",
    "   * 2 = It was treated without surgery\n",
    "\n",
    "2) Age:\n",
    "   * 1 = Adult horse\n",
    "   * 2 = Young (< 6 months)\n",
    "\n",
    "3) Hospital Number\n",
    "   * numeric id\n",
    "   * the case number assigned to the horse\n",
    "     (may not be unique if the horse is treated > 1 time)\n",
    "\n",
    "4) Rectal temperature:\n",
    "   * linear\n",
    "   * in degrees celsius.\n",
    "   * An elevated temp may occur due to infection.\n",
    "   * temperature may be reduced when the animal is in late shock\n",
    "   * normal temp is 37.8\n",
    "   * this parameter will usually change as the problem progresses\n",
    "   * eg. may start out normal, then become elevated because of\n",
    "                   the lesion, passing back through the normal range as the\n",
    "                   horse goes into shock\n",
    "                   \n",
    "5) Pulse:\n",
    "   * linear\n",
    "   * the heart rate in beats per minute\n",
    "   * is a reflection of the heart condition: 30 -40 is normal for adults\n",
    "   * rare to have a lower than normal rate although athletic horses\n",
    "   * may have a rate of 20-25\n",
    "   * animals with painful lesions or suffering from circulatory shock\n",
    "            may have an elevated heart rate\n",
    "\n",
    "6) Respiratory rate:\n",
    "   * linear\n",
    "   * normal rate is 8 to 10\n",
    "   * usefulness is doubtful due to the great fluctuations\n",
    "\n",
    "7) Temperature of extremities:\n",
    "   * a subjective indication of peripheral circulation\n",
    "   * possible values:\n",
    "     * 1 = Normal\n",
    "     * 2 = Warm\n",
    "     * 3 = Cool\n",
    "     * 4 = Cold\n",
    "   * cool to cold extremities indicate possible shock\n",
    "   * hot extremities should correlate with an elevated rectal temp.\n",
    "\n",
    "8) Peripheral pulse:\n",
    "   * subjective\n",
    "   * possible values are:\n",
    "    * 1 = normal\n",
    "    * 2 = increased\n",
    "    * 3 = reduced\n",
    "    * 4 = absent\n",
    "   * normal or increased p.p. are indicative of adequate circulation\n",
    "            while reduced or absent indicate poor perfusion\n",
    "               \n",
    "9) Mucous membranes:\n",
    "   * a subjective measurement of colour\n",
    "   * possible values are:\n",
    "    * 1 = normal pink\n",
    "    * 2 = bright pink\n",
    "    * 3 = pale pink\n",
    "    * 4 = pale cyanotic\n",
    "    * 5 = bright red / injected\n",
    "    * 6 = dark cyanotic\n",
    "   * 1 and 2 probably indicate a normal or slightly increased circulation\n",
    "   * 3 may occur in early shock\n",
    "   * 4 and 6 are indicative of serious circulatory compromise\n",
    "\n",
    "10) Capillary refill:\n",
    " * a clinical judgement. The longer the refill, the poorer the\n",
    "            circulation\n",
    "  * possible values\n",
    "    * 1 = < 3 seconds\n",
    "    * 2 = >= 3 seconds\n",
    "   \n",
    "11) Pain: \n",
    " * a subjective judgement of the horse's pain level\n",
    " * possible values:\n",
    "   * 1 = alert, no pain\n",
    "   * 2 = depressed\n",
    "   * 3 = intermittent mild pain\n",
    "   * 4 = intermittent severe pain\n",
    "   * 5 = continuous severe pain\n",
    " * should NOT be treated as a ordered or discrete variable!\n",
    " * In general, the more painful, the more likely it is to require\n",
    "            surgery\n",
    "     * prior treatment of pain may mask the pain level to some extent\n",
    "\n",
    "12) Peristalsis:\n",
    " * an indication of the activity in the horse's gut. As the gut\n",
    "   becomes more distended or the horse becomes more toxic, the\n",
    "   activity decreases\n",
    " * possible values:\n",
    "   * 1 = hypermotile\n",
    "   * 2 = normal\n",
    "   * 3 = hypomotile\n",
    "   * 4 = absent\n",
    "\n",
    "13) Abdominal distension:\n",
    " * An IMPORTANT parameter.\n",
    " * possible values\n",
    "   * 1 = none\n",
    "   * 2 = slight\n",
    "   * 3 = moderate\n",
    "   * 4 = severe\n",
    " * an animal with abdominal distension is likely to be painful and\n",
    " * have reduced gut motility.\n",
    " * a horse with severe abdominal distension is likely to require\n",
    "            surgery just tio relieve the pressure\n",
    "\n",
    "14) Nasogastric tube:\n",
    " * this refers to any gas coming out of the tube\n",
    " * possible values:\n",
    "   * 1 = none\n",
    "   * 2 = slight\n",
    "   * 3 = significant\n",
    " * a large gas cap in the stomach is likely to give the horse\n",
    "            discomfort\n",
    "\n",
    "15) Nasogastric reflux:\n",
    " * possible values\n",
    "   * 1 = none\n",
    "   * 2 = > 1 liter\n",
    "   * 3 = < 1 liter\n",
    " * the greater amount of reflux, the more likelihood that there is\n",
    "            some serious obstruction to the fluid passage from the rest of\n",
    "            the intestine\n",
    "\n",
    "16) Nasogastric reflux PH:\n",
    " * linear\n",
    " * scale is from 0 to 14 with 7 being neutral\n",
    " * normal values are in the 3 to 4 range\n",
    "\n",
    "17) rectal examination:\n",
    " * feces\n",
    " * possible values\n",
    "   * 1 = normal\n",
    "   * 2 = increased\n",
    "   * 3 = decreased\n",
    "   * 4 = absent\n",
    " * absent feces probably indicates an obstruction\n",
    "    \n",
    "18) Abdomen: \n",
    " * possible values\n",
    "   * 1 = normal\n",
    "   * 2 = other\n",
    "   * 3 = firm feces in the large intestine\n",
    "   * 4 = distended small intestine\n",
    "   * 5 = distended large intestine\n",
    " * 3 is probably an obstruction caused by a mechanical impaction\n",
    "       and is normally treated medically\n",
    " * 4 and 5 indicate a surgical lesion\n",
    "\n",
    "19) Packed cell volume:\n",
    " * linear\n",
    " * the # of red cells by volume in the blood\n",
    " * normal range is 30 to 50. The level rises as the circulation\n",
    "        becomes compromised or as the animal becomes dehydrated.\n",
    "\n",
    "20) Total protein\n",
    " * linear\n",
    " * normal values lie in the 6-7.5 (gms/dL) range\n",
    " * the higher the value the greater the dehydration\n",
    "\n",
    "21) Abdominocentesis appearance:\n",
    " * a needle is put in the horse's abdomen and fluid is obtained from the abdominal cavity\n",
    " * possible values:\n",
    "   * 1 = clear\n",
    "   * 2 = cloudy\n",
    "   * 3 = serosanguinous\n",
    " * normal fluid is clear while cloudy or serosanguinous indicates\n",
    "        a compromised gut\n",
    "\n",
    "22) Abdomcentesis total protein:\n",
    " * linear\n",
    " * the higher the level of protein the more likely it is to have a\n",
    "        compromised gut. Values are in gms/dL\n",
    "\n",
    "23) Outcome:\n",
    " * what eventually happened to the horse?\n",
    " * possible values:\n",
    "   * 1 = lived\n",
    "   * 2 = died\n",
    "   * 3 = was euthanized\n",
    "\n",
    "24) Surgical lesion:\n",
    " * retrospectively, was the problem (lesion) surgical?\n",
    " * all cases are either operated upon or autopsied so that\n",
    "        this value and the lesion type are always known\n",
    " * possible values:\n",
    "   * 1 = Yes\n",
    "   * 2 = No\n",
    "\n",
    "25 26, 27 Type of lesion\n",
    " * first number is site of lesion\n",
    "   * 1 = gastric\n",
    "   * 2 = sm intestine\n",
    "   * 3 = lg colon\n",
    "   * 4 = lg colon and cecum\n",
    "   * 5 = cecum\n",
    "   * 6 = transverse colon\n",
    "   * 7 = retum/descending colon\n",
    "   * 8 = uterus\n",
    "   * 9 = bladder\n",
    "   * 11 = all intestinal sites\n",
    "   * 00 = none\n",
    " * second number is type\n",
    "   * 1 = simple\n",
    "   * 2 = strangulation\n",
    "   * 3 = inflammation\n",
    "   * 4 = other\n",
    " * third number is subtype\n",
    "   * 1 = mechanical\n",
    "   * 2 = paralytic\n",
    "   * 0 = n/a\n",
    " * fourth number is specific code\n",
    "   * 1 = obturation\n",
    "   * 2 = intrinsic\n",
    "   * 3 = extrinsic\n",
    "   * 4 = adynamic\n",
    "   * 5 = volvulus/torsion\n",
    "   * 6 = intussuption\n",
    "   * 7 = thromboembolic\n",
    "   * 8 = hernia\n",
    "   * 9 = lipoma/slenic incarceration\n",
    "   * 10 = displacement\n",
    "   * 0 = n/a\n",
    "           \n",
    "28) Cp_data:\n",
    " * is pathology data present for this case?\n",
    "   * 1 = Yes\n",
    "   * 2 = No\n",
    " * this variable is of no significance since pathology data\n",
    "            is not included or collected for these cases\n",
    "\n",
    "### Missing values: \n",
    "30% of the values are missing"
   ]
  }
 ],
 "metadata": {
  "kernelspec": {
   "display_name": "Python 3.8.5 64-bit",
   "language": "python",
   "name": "python_defaultSpec_1614193412846"
  },
  "language_info": {
   "codemirror_mode": {
    "name": "ipython",
    "version": 3
   },
   "file_extension": ".py",
   "mimetype": "text/x-python",
   "name": "python",
   "nbconvert_exporter": "python",
   "pygments_lexer": "ipython3",
   "version": "3.7.3"
  }
 },
 "nbformat": 4,
 "nbformat_minor": 2
}