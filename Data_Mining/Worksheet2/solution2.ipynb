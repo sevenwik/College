{
 "cells": [
  {
   "cell_type": "code",
   "execution_count": 3,
   "metadata": {},
   "outputs": [],
   "source": [
    "import numpy as np\n",
    "import matplotlib.pyplot as plt\n",
    "import pandas as pd\n",
    "from apyori import apriori"
   ]
  },
  {
   "cell_type": "markdown",
   "metadata": {},
   "source": [
    "# Importing The Dataset"
   ]
  },
  {
   "cell_type": "code",
   "execution_count": 35,
   "metadata": {
    "tags": [
     "outputPrepend"
    ]
   },
   "outputs": [],
   "source": [
    "data = pd.read_csv('Groceries.csv')\n",
    "data = data.head(10000)\n",
    "\n",
    "#print(data[(data['Member_number'] == 1808)])\n",
    "#print(listOfTransactions)\n",
    "\n"
   ]
  },
  {
   "cell_type": "markdown",
   "metadata": {},
   "source": [
    "# Data Preproccessing\n"
   ]
  },
  {
   "cell_type": "code",
   "execution_count": 36,
   "metadata": {},
   "outputs": [],
   "source": [
    "uniqueMember = data.Member_number.unique()\n",
    "grouped =  data.groupby(data.Member_number)\n",
    "\n",
    "#print(grouped.get_group(1808)['itemDescription'])\n",
    "\n",
    "listOfItems = []\n",
    "for i in uniqueMember:\n",
    "    listOfItems.append(grouped.get_group(i)['itemDescription'])\n",
    "\n",
    "#print(listOfItems)\n",
    "\n",
    "listOfTransactions = []\n",
    "for i in listOfItems:\n",
    "    temp = []\n",
    "    for j in i:\n",
    "        if type(j) == str:\n",
    "            temp.append(j)\n",
    "    listOfTransactions.append(temp)"
   ]
  },
  {
   "cell_type": "markdown",
   "metadata": {},
   "source": [
    "# Apriori Algorithm"
   ]
  },
  {
   "cell_type": "code",
   "execution_count": 37,
   "metadata": {},
   "outputs": [
    {
     "output_type": "stream",
     "name": "stdout",
     "text": "Rule: whole milk -> beef\nSupport: 0.01765375854214123\nConfidence: 0.21088435374149658\nLift: 1.1054117169255762\n=====================================\nRule: bottled beer -> whole milk\nSupport: 0.010250569476082005\nConfidence: 0.2033898305084746\nLift: 1.066126992157855\n=====================================\nRule: frankfurter -> bottled water\nSupport: 0.01082004555808656\nConfidence: 0.21714285714285714\nLift: 1.4227718550106612\n=====================================\nRule: butter -> rolls/buns\nSupport: 0.004840546697038725\nConfidence: 0.2125\nLift: 2.254682779456193\n=====================================\nRule: whole milk -> butter\nSupport: 0.0056947608200455585\nConfidence: 0.25\nLift: 1.3104477611940297\n=====================================\nRule: whole milk -> canned beer\nSupport: 0.019931662870159454\nConfidence: 0.23411371237458195\nLift: 1.2271751609843757\n=====================================\nRule: sausage -> chicken\nSupport: 0.01765375854214123\nConfidence: 0.21305841924398625\nLift: 1.0264213558091628\n=====================================\nRule: sausage -> curd\nSupport: 0.006548974943052392\nConfidence: 0.2527472527472528\nLift: 1.2176246250320326\n=====================================\nRule: sausage -> dessert\nSupport: 0.005979498861047836\nConfidence: 0.28378378378378377\nLift: 1.3671449227004782\n=====================================\nRule: frankfurter -> frozen meals\nSupport: 0.004555808656036446\nConfidence: 0.3137254901960784\nLift: 2.0556043312847527\n=====================================\nRule: grapes -> sausage\nSupport: 0.004840546697038725\nConfidence: 0.24285714285714285\nLift: 1.169978444052518\n=====================================\nRule: sausage -> ham\nSupport: 0.01224373576309795\nConfidence: 0.23369565217391303\nLift: 1.1258424285799487\n=====================================\nRule: whole milk -> ham\nSupport: 0.01224373576309795\nConfidence: 0.23369565217391303\nLift: 1.224983776768332\n=====================================\nRule: sausage -> hamburger meat\nSupport: 0.010535307517084282\nConfidence: 0.22699386503067484\nLift: 1.0935561783096435\n=====================================\nRule: ice cream -> sausage\nSupport: 0.006264236902050114\nConfidence: 0.2619047619047619\nLift: 1.2617414592723235\n=====================================\nRule: ice cream -> whole milk\nSupport: 0.005125284738041002\nConfidence: 0.21428571428571427\nLift: 1.1232409381663113\n=====================================\nRule: whole milk -> meat\nSupport: 0.011674259681093395\nConfidence: 0.242603550295858\nLift: 1.2716771173717214\n=====================================\nRule: other vegetables -> sausage\nSupport: 0.028189066059225512\nConfidence: 0.22448979591836735\nLift: 1.0814926793762774\n=====================================\nRule: other vegetables -> whole milk\nSupport: 0.025341685649202732\nConfidence: 0.2018140589569161\nLift: 1.0578671269502826\n=====================================\nRule: sausage -> pastry\nSupport: 0.00825740318906606\nConfidence: 0.21014492753623187\nLift: 1.0123854396532872\n=====================================\nRule: whole milk -> pastry\nSupport: 0.013097949886104784\nConfidence: 0.3333333333333333\nLift: 1.7472636815920397\n=====================================\nRule: pork -> sausage\nSupport: 0.022779043280182234\nConfidence: 0.21798365122615804\nLift: 1.0501489480195707\n=====================================\nRule: whole milk -> rolls/buns\nSupport: 0.019931662870159454\nConfidence: 0.21148036253776437\nLift: 1.1085358704964603\n=====================================\nRule: root vegetables -> sausage\nSupport: 0.01765375854214123\nConfidence: 0.22142857142857142\nLift: 1.066745051930237\n=====================================\nRule: root vegetables -> whole milk\nSupport: 0.015945330296127564\nConfidence: 0.2\nLift: 1.048358208955224\n=====================================\nRule: tropical fruit -> sausage\nSupport: 0.030751708428246014\nConfidence: 0.23788546255506607\nLift: 1.1460270843530755\n=====================================\nRule: sausage -> whipped/sour cream\nSupport: 0.006548974943052392\nConfidence: 0.29487179487179493\nLift: 1.4205620625373714\n=====================================\nRule: whole milk -> sausage\nSupport: 0.041571753986332574\nConfidence: 0.20027434842249658\nLift: 1.049796286059415\n=====================================\nRule: sausage -> yogurt\nSupport: 0.017369020501138952\nConfidence: 0.2652173913043478\nLift: 1.2777002445279417\n=====================================\nRule: whole milk -> beef\nSupport: 0.004840546697038725\nConfidence: 0.2833333333333333\nLift: 1.4851741293532337\n=====================================\nRule: whole milk -> frankfurter\nSupport: 0.004840546697038725\nConfidence: 0.2982456140350877\nLift: 1.5633411887928776\n=====================================\nRule: whole milk -> sausage\nSupport: 0.004555808656036446\nConfidence: 0.2807017543859649\nLift: 1.4713799423932965\n=====================================\nRule: frankfurter -> sausage\nSupport: 0.0056947608200455585\nConfidence: 0.31250000000000006\nLift: 1.5054869684499317\n=====================================\nRule: whole milk -> sausage\nSupport: 0.00541002277904328\nConfidence: 0.22352941176470587\nLift: 1.171694468832309\n=====================================\nRule: frankfurter -> soda\nSupport: 0.004555808656036446\nConfidence: 0.32653061224489793\nLift: 1.5730802609109487\n=====================================\nRule: tropical fruit -> frankfurter\nSupport: 0.004555808656036446\nConfidence: 0.26666666666666666\nLift: 1.2846822130772748\n=====================================\nRule: other vegetables -> pork\nSupport: 0.004840546697038725\nConfidence: 0.3777777777777778\nLift: 1.8199664685261394\n=====================================\nRule: other vegetables -> whole milk\nSupport: 0.004555808656036446\nConfidence: 0.35555555555555557\nLift: 1.8637479270315092\n=====================================\nRule: other vegetables -> whole milk\nSupport: 0.007972665148063782\nConfidence: 0.2828282828282829\nLift: 1.4825267601387007\n=====================================\nRule: whole milk -> pork\nSupport: 0.004555808656036446\nConfidence: 0.24615384615384617\nLift: 1.185860504379023\n=====================================\nRule: whole milk -> sausage\nSupport: 0.004555808656036446\nConfidence: 0.2962962962962963\nLift: 1.5531232725262576\n=====================================\nRule: tropical fruit -> whole milk\nSupport: 0.00683371298405467\nConfidence: 0.2222222222222222\nLift: 1.1648424543946931\n=====================================\n"
    }
   ],
   "source": [
    "association_rules = apriori(listOfTransactions, min_support=0.0045, min_confidence=0.2, min_lift=1, min_length=2)\n",
    "\n",
    "#print(association_rules[0])\n",
    "\n",
    "count=0\n",
    "association_results=[]\n",
    "for item in association_rules:\n",
    "    pair = item[0] \n",
    "    items = [x for x in pair]\n",
    "    if len(items)>1:\n",
    "        count+=1\n",
    "        association_results.append(item)\n",
    "                \n",
    "        print(\"Rule: \" + items[0] + \" -> \" + items[1])\n",
    "        print(\"Support: \" + str(item[1]))\n",
    "        print(\"Confidence: \" + str(item[2][0][2]))\n",
    "        print(\"Lift: \" + str(item[2][0][3]))\n",
    "        print(\"=====================================\")"
   ]
  }
 ],
 "metadata": {
  "language_info": {
   "codemirror_mode": {
    "name": "ipython",
    "version": 3
   },
   "file_extension": ".py",
   "mimetype": "text/x-python",
   "name": "python",
   "nbconvert_exporter": "python",
   "pygments_lexer": "ipython3",
   "version": 3
  },
  "orig_nbformat": 2,
  "kernelspec": {
   "name": "python_defaultSpec_1611504391271",
   "display_name": "Python 3.8.5 64-bit"
  }
 },
 "nbformat": 4,
 "nbformat_minor": 2
}