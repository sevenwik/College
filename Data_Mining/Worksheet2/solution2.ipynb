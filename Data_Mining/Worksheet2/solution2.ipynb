{
 "cells": [
  {
   "cell_type": "code",
   "execution_count": 1,
   "metadata": {},
   "outputs": [],
   "source": [
    "import numpy as np\n",
    "import matplotlib.pyplot as plt\n",
    "import pandas as pd\n",
    "from apyori import apriori"
   ]
  },
  {
   "cell_type": "markdown",
   "metadata": {},
   "source": [
    "# Importing The Dataset"
   ]
  },
  {
   "cell_type": "code",
   "execution_count": 2,
   "metadata": {
    "tags": [
     "outputPrepend"
    ]
   },
   "outputs": [],
   "source": [
    "data = pd.read_csv('Groceries.csv')\n",
    "#data = data.head(10000)\n",
    "\n",
    "#print(data[(data['Member_number'] == 1808)])\n",
    "#print(listOfTransactions)\n",
    "\n"
   ]
  },
  {
   "cell_type": "markdown",
   "metadata": {},
   "source": [
    "# Data Preproccessing\n"
   ]
  },
  {
   "cell_type": "code",
   "execution_count": 3,
   "metadata": {
    "tags": [
     "outputPrepend"
    ]
   },
   "outputs": [],
   "source": [
    "#unique set of member number\n",
    "uniqueMember = data.Member_number.unique()\n",
    "\n",
    "#groupBy member umber to get the list of items bought by particular person\n",
    "grouped =  data.groupby(data.Member_number)\n",
    "\n",
    "\n",
    "#storing those items under each member\n",
    "listOfItems = []\n",
    "for i in uniqueMember:\n",
    "    listOfItems.append(grouped.get_group(i)['itemDescription'])\n",
    "\n",
    "#list of items bought by a particular person is stored as a transaction \n",
    "listOfTransactions = []\n",
    "for i in listOfItems:\n",
    "    temp = []\n",
    "    for j in i:\n",
    "        if type(j) == str:\n",
    "            temp.append(j)\n",
    "    listOfTransactions.append(temp)\n",
    "\n",
    "#print(listOfTransactions)"
   ]
  },
  {
   "cell_type": "markdown",
   "metadata": {},
   "source": [
    "# Apriori Algorithm"
   ]
  },
  {
   "cell_type": "code",
   "execution_count": 4,
   "metadata": {
    "tags": [
     "outputPrepend"
    ]
   },
   "outputs": [
    {
     "output_type": "stream",
     "name": "stdout",
     "text": "Rule: bottled beer -> whole milk\nSupport: 0.08542842483324782\nConfidence: 0.5379644588045235\nLift: 1.174123997995539\n=====================================\nRule: bottled water -> other vegetables\nSupport: 0.09389430477167779\nConfidence: 0.43937575030012005\nLift: 1.1666802960966403\n=====================================\nRule: whole milk -> bottled water\nSupport: 0.11236531554643407\nConfidence: 0.5258103241296519\nLift: 1.1475972247801696\n=====================================\nRule: whole milk -> canned beer\nSupport: 0.08722421754746024\nConfidence: 0.5279503105590062\nLift: 1.1522678110632734\n=====================================\nRule: citrus fruit -> other vegetables\nSupport: 0.07747562852744998\nConfidence: 0.41770401106500693\nLift: 1.1091350375554476\n=====================================\nRule: citrus fruit -> whole milk\nSupport: 0.09235505387378143\nConfidence: 0.4979253112033195\nLift: 1.0867373253474464\n=====================================\nRule: whole milk -> domestic eggs\nSupport: 0.07029245767060031\nConfidence: 0.5279383429672447\nLift: 1.152241691425711\n=====================================\nRule: whole milk -> newspapers\nSupport: 0.07234479220112879\nConfidence: 0.5174311926605504\nLift: 1.129309512312892\n=====================================\nRule: other vegetables -> pastry\nSupport: 0.0715751667521806\nConfidence: 0.4031791907514451\nLift: 1.0705670882487281\n=====================================\nRule: pip fruit -> other vegetables\nSupport: 0.07234479220112879\nConfidence: 0.42406015037593986\nLift: 1.126012579131753\n=====================================\nRule: rolls/buns -> other vegetables\nSupport: 0.14674191893278604\nConfidence: 0.41966250917094644\nLift: 1.1143354637250336\n=====================================\nRule: other vegetables -> root vegetables\nSupport: 0.09415084658799384\nConfidence: 0.4082313681868743\nLift: 1.0839822024471635\n=====================================\nRule: other vegetables -> sausage\nSupport: 0.09286813750641354\nConfidence: 0.4508094645080946\nLift: 1.1970403900902948\n=====================================\nRule: shopping bags -> other vegetables\nSupport: 0.07311441765007697\nConfidence: 0.4344512195121952\nLift: 1.1536041237455972\n=====================================\nRule: whole milk -> other vegetables\nSupport: 0.1913801949717804\nConfidence: 0.5081743869209809\nLift: 1.1091062487222754\n=====================================\nRule: other vegetables -> yogurt\nSupport: 0.12031811185223192\nConfidence: 0.4252039891205803\nLift: 1.1290498294223583\n=====================================\nRule: whole milk -> pastry\nSupport: 0.09107234479220112\nConfidence: 0.5130057803468208\nLift: 1.119650913657283\n=====================================\nRule: pip fruit -> whole milk\nSupport: 0.08696767573114418\nConfidence: 0.5097744360902257\nLift: 1.1125984053077824\n=====================================\nRule: whole milk -> rolls/buns\nSupport: 0.17855310415597742\nConfidence: 0.5106382978723404\nLift: 1.1144838102499344\n=====================================\nRule: whole milk -> root vegetables\nSupport: 0.11313494099538225\nConfidence: 0.4905450500556173\nLift: 1.0706296781169071\n=====================================\nRule: whole milk -> sausage\nSupport: 0.10697793740379682\nConfidence: 0.5193026151930261\nLift: 1.1333939496206136\n=====================================\nRule: shopping bags -> whole milk\nSupport: 0.09132888660851719\nConfidence: 0.5426829268292683\nLift: 1.1844221997651108\n=====================================\nRule: whole milk -> soda\nSupport: 0.15110312981015905\nConfidence: 0.48199672667757776\nLift: 1.0519726990980953\n=====================================\nRule: tropical fruit -> whole milk\nSupport: 0.11646998460749101\nConfidence: 0.4983534577387486\nLift: 1.0876717683458241\n=====================================\nRule: whole milk -> whipped/sour cream\nSupport: 0.0797845048742945\nConfidence: 0.5157545605306799\nLift: 1.1256502110574413\n=====================================\nRule: whole milk -> yogurt\nSupport: 0.15059004617752694\nConfidence: 0.5321849501359928\nLift: 1.1615100423460805\n=====================================\nRule: rolls/buns -> whole milk\nSupport: 0.08209338122113904\nConfidence: 0.5594405594405595\nLift: 1.2209962489917698\n=====================================\nRule: whole milk -> other vegetables\nSupport: 0.07183170856849666\nConfidence: 0.5970149253731343\nLift: 1.303003459744948\n=====================================\n"
    }
   ],
   "source": [
    "#using apriori function to get items which have support>=min_support and conf>=min_conf\n",
    "association_rules = apriori(listOfTransactions, min_support=0.07, min_confidence=0.4, min_lift=1, min_length=2)\n",
    "\n",
    "#printing those items with parameters.\n",
    "count=0\n",
    "association_results=[]\n",
    "for item in association_rules:\n",
    "    pair = item[0] \n",
    "    items = [x for x in pair]\n",
    "    if len(items)>1:\n",
    "        count+=1\n",
    "        association_results.append(item)\n",
    "                \n",
    "        print(\"Rule: \" + items[0] + \" -> \" + items[1])\n",
    "        print(\"Support: \" + str(item[1]))\n",
    "        print(\"Confidence: \" + str(item[2][0][2]))\n",
    "        print(\"Lift: \" + str(item[2][0][3]))\n",
    "        print(\"=====================================\")\n"
   ]
  }
 ],
 "metadata": {
  "language_info": {
   "codemirror_mode": {
    "name": "ipython",
    "version": 3
   },
   "file_extension": ".py",
   "mimetype": "text/x-python",
   "name": "python",
   "nbconvert_exporter": "python",
   "pygments_lexer": "ipython3",
   "version": 3
  },
  "orig_nbformat": 2,
  "kernelspec": {
   "name": "python_defaultSpec_1611589344342",
   "display_name": "Python 3.8.5 64-bit"
  }
 },
 "nbformat": 4,
 "nbformat_minor": 2
}