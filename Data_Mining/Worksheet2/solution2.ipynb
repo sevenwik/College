{
 "cells": [
  {
   "cell_type": "code",
   "execution_count": 2,
   "metadata": {},
   "outputs": [],
   "source": [
    "import numpy as np\n",
    "import matplotlib.pyplot as plt\n",
    "import pandas as pd\n",
    "from apyori import apriori"
   ]
  },
  {
   "cell_type": "markdown",
   "metadata": {},
   "source": [
    "# Importing The Dataset"
   ]
  },
  {
   "cell_type": "code",
   "execution_count": 10,
   "metadata": {
    "tags": [
     "outputPrepend"
    ]
   },
   "outputs": [],
   "source": [
    "data = pd.read_csv('Groceries.csv')\n",
    "#data = data.head(10000)\n",
    "\n",
    "#print(data[(data['Member_number'] == 1808)])\n",
    "#print(listOfTransactions)\n",
    "\n"
   ]
  },
  {
   "cell_type": "markdown",
   "metadata": {},
   "source": [
    "# Data Preproccessing\n"
   ]
  },
  {
   "cell_type": "code",
   "execution_count": 11,
   "metadata": {},
   "outputs": [],
   "source": [
    "#unique set of member number\n",
    "uniqueMember = data.Member_number.unique()\n",
    "\n",
    "#groupBy member umber to get the list of items bought by particular person\n",
    "grouped =  data.groupby(data.Member_number)\n",
    "\n",
    "\n",
    "#storing those items under each member\n",
    "listOfItems = []\n",
    "for i in uniqueMember:\n",
    "    listOfItems.append(grouped.get_group(i)['itemDescription'])\n",
    "\n",
    "#list of items bought by a particular person is stored as a transaction \n",
    "listOfTransactions = []\n",
    "for i in listOfItems:\n",
    "    temp = []\n",
    "    for j in i:\n",
    "        if type(j) == str:\n",
    "            temp.append(j)\n",
    "    listOfTransactions.append(temp)"
   ]
  },
  {
   "cell_type": "markdown",
   "metadata": {},
   "source": [
    "# Apriori Algorithm"
   ]
  },
  {
   "cell_type": "code",
   "execution_count": 13,
   "metadata": {
    "tags": [
     "outputPrepend"
    ]
   },
   "outputs": [
    {
     "output_type": "stream",
     "name": "stdout",
     "text": "====\nRule: whole milk -> bottled beer\nSupport: 0.08542842483324782\nConfidence: 0.5379644588045235\nLift: 1.174123997995539\n=====================================\nRule: yogurt -> bottled beer\nSupport: 0.04874294510005131\nConfidence: 0.30694668820678517\nLift: 1.084749039555801\n=====================================\nRule: citrus fruit -> bottled water\nSupport: 0.04515135967162647\nConfidence: 0.21128451380552218\nLift: 1.1391245294798416\n=====================================\nRule: bottled water -> other vegetables\nSupport: 0.09389430477167779\nConfidence: 0.43937575030012005\nLift: 1.1666802960966403\n=====================================\nRule: bottled water -> rolls/buns\nSupport: 0.0792714212416624\nConfidence: 0.3709483793517407\nLift: 1.0608633768988154\n=====================================\nRule: bottled water -> root vegetables\nSupport: 0.05413032324268856\nConfidence: 0.2533013205282113\nLift: 1.0982964932357815\n=====================================\nRule: bottled water -> sausage\nSupport: 0.04925602873268343\nConfidence: 0.2304921968787515\nLift: 1.1188774388958571\n=====================================\nRule: bottled water -> soda\nSupport: 0.07619291944586967\nConfidence: 0.3565426170468187\nLift: 1.1373184298269226\n=====================================\nRule: bottled water -> tropical fruit\nSupport: 0.05643919958953309\nConfidence: 0.26410564225690275\nLift: 1.1300590488665279\n=====================================\nRule: bottled water -> whole milk\nSupport: 0.11236531554643407\nConfidence: 0.5258103241296519\nLift: 1.1475972247801696\n=====================================\nRule: yogurt -> bottled water\nSupport: 0.06644433042585941\nConfidence: 0.31092436974789917\nLift: 1.09880615890962\n=====================================\nRule: brown bread -> other vegetables\nSupport: 0.05977424320164187\nConfidence: 0.439622641509434\nLift: 1.1673358696210991\n=====================================\nRule: rolls/buns -> brown bread\nSupport: 0.05336069779374038\nConfidence: 0.3924528301886792\nLift: 1.1223632663796563\n=====================================\nRule: brown bread -> soda\nSupport: 0.04720369420215495\nConfidence: 0.3471698113207547\nLift: 1.1074205601704599\n=====================================\nRule: whole milk -> brown bread\nSupport: 0.06977937403796819\nConfidence: 0.5132075471698113\nLift: 1.1200912759618837\n=====================================\nRule: butter -> other vegetables\nSupport: 0.05720882503848127\nConfidence: 0.45233265720081134\nLift: 1.2010849439841706\n=====================================\nRule: butter -> rolls/buns\nSupport: 0.049512570548999484\nConfidence: 0.3914807302231237\nLift: 1.1195831888552723\n=====================================\nRule: butter -> whole milk\nSupport: 0.06618778860954336\nConfidence: 0.5233265720081136\nLift: 1.142176359287585\n=====================================\nRule: other vegetables -> canned beer\nSupport: 0.0672139558748076\nConfidence: 0.40683229813664595\nLift: 1.0802672330631102\n=====================================\nRule: rolls/buns -> canned beer\nSupport: 0.06670087224217547\nConfidence: 0.4037267080745341\nLift: 1.1546050682865252\n=====================================\nRule: root vegetables -> canned beer\nSupport: 0.04746023601847101\nConfidence: 0.28726708074534163\nLift: 1.2455696115076103\n=====================================\nRule: canned beer -> soda\nSupport: 0.054643406875320676\nConfidence: 0.3307453416149068\nLift: 1.0550289211251282\n=====================================\nRule: whole milk -> canned beer\nSupport: 0.08722421754746024\nConfidence: 0.5279503105590062\nLift: 1.1522678110632734\n=====================================\nRule: yogurt -> canned beer\nSupport: 0.051821446895844024\nConfidence: 0.3136645962732919\nLift: 1.108490114481679\n=====================================\nRule: whole milk -> chicken\nSupport: 0.05002565418163161\nConfidence: 0.49744897959183676\nLift: 1.0856977169367188\n=====================================\nRule: chocolate -> whole milk\nSupport: 0.04797331965110313\nConfidence: 0.5548961424332345\nLift: 1.2110779189276304\n=====================================\nRule: citrus fruit -> other vegetables\nSupport: 0.07747562852744998\nConfidence: 0.41770401106500693\nLift: 1.1091350375554476\n=====================================\nRule: citrus fruit -> rolls/buns\nSupport: 0.07183170856849666\nConfidence: 0.38727524204702624\nLift: 1.107556048055252\n=====================================\nRule: citrus fruit -> root vegetables\nSupport: 0.045664443304258596\nConfidence: 0.24619640387275243\nLift: 1.0674900804182301\n=====================================\nRule: citrus fruit -> soda\nSupport: 0.06516162134427912\nConfidence: 0.351313969571231\nLift: 1.1206398145570038\n=====================================\nRule: citrus fruit -> tropical fruit\nSupport: 0.04643406875320677\nConfidence: 0.2503457814661134\nLift: 1.0711831571404062\n=====================================\nRule: citrus fruit -> whole milk\nSupport: 0.09235505387378143\nConfidence: 0.4979253112033195\nLift: 1.0867373253474464\n=====================================\nRule: citrus fruit -> yogurt\nSupport: 0.05823499230374551\nConfidence: 0.313969571230982\nLift: 1.1095678954291641\n=====================================\nRule: other vegetables -> coffee\nSupport: 0.04925602873268343\nConfidence: 0.42857142857142855\nLift: 1.1379914363565589\n=====================================\nRule: whole milk -> coffee\nSupport: 0.05515649050795279\nConfidence: 0.47991071428571425\nLift: 1.0474199128139496\n=====================================\nRule: whole milk -> cream cheese \nSupport: 0.04771677783478707\nConfidence: 0.5391304347826087\nLift: 1.176668776474025\n=====================================\nRule: other vegetables -> curd\nSupport: 0.05156490507952796\nConfidence: 0.4267515923566879\nLift: 1.1331592009580174\n=====================================\nRule: rolls/buns -> curd\nSupport: 0.05002565418163161\nConfidence: 0.4140127388535032\nLift: 1.1840217579243988\n=====================================\nRule: whole milk -> curd\nSupport: 0.06362237044638276\nConfidence: 0.5265392781316348\nLift: 1.149188189337689\n=====================================\nRule: other vegetables -> domestic eggs\nSupport: 0.05438686505900462\nConfidence: 0.40847784200385356\nLift: 1.0846366676641834\n=====================================\nRule: rolls/buns -> domestic eggs\nSupport: 0.052591072344792204\nConfidence: 0.394990366088632\nLift: 1.1296202839423972\n=====================================\nRule: whole milk -> domestic eggs\nSupport: 0.07029245767060031\nConfidence: 0.5279383429672447\nLift: 1.152241691425711\n=====================================\nRule: other vegetables -> frankfurter\nSupport: 0.061056952283222166\nConfidence: 0.44402985074626866\nLift: 1.1790383911505145\n=====================================\nRule: rolls/buns -> frankfurter\nSupport: 0.05515649050795279\nConfidence: 0.4011194029850746\nLift: 1.147148520055628\n=====================================\nRule: frankfurter -> soda\nSupport: 0.051051821446895844\nConfidence: 0.3712686567164179\nLift: 1.1842923272345312\n=====================================\nRule: whole milk -> frankfurter\nSupport: 0.06798358132375577\nConfidence: 0.4944029850746269\nLift: 1.0790497401012853\n=====================================\nRule: frozen vegetables -> other vegetables\nSupport: 0.045664443304258596\nConfidence: 0.445\nLift: 1.1816144414168936\n=====================================\nRule: frozen vegetables -> whole milk\nSupport: 0.05515649050795279\nConfidence: 0.5375\nLift: 1.1731103023516236\n=====================================\nRule: fruit/vegetable juice -> other vegetables\nSupport: 0.052591072344792204\nConfidence: 0.4209445585215606\nLift: 1.1177397064829995\n=====================================\nRule: rolls/buns -> fruit/vegetable juice\nSupport: 0.05361723961005644\nConfidence: 0.4291581108829569\nLift: 1.2273355218061381\n=====================================\nRule: whole milk -> fruit/vegetable juice\nSupport: 0.062339661364802464\nConfidence: 0.4989733059548255\nLift: 1.089024606165683\n=====================================\nRule: hamburger meat -> whole milk\nSupport: 0.045407901487942534\nConfidence: 0.5654952076677316\nLift: 1.234210705200906\n=====================================\nRule: other vegetables -> margarine\nSupport: 0.05002565418163161\nConfidence: 0.4276315789473684\nLift: 1.1354958411013911\n=====================================\nRule: whole milk -> margarine\nSupport: 0.059517701385325805\nConfidence: 0.5087719298245614\nLift: 1.1104104045107168\n=====================================\nRule: rolls/buns -> newspapers\nSupport: 0.05720882503848127\nConfidence: 0.40917431192660547\nLift: 1.170184495884012\n=====================================\nRule: newspapers -> soda\nSupport: 0.049769112365315546\nConfidence: 0.35596330275229354\nLift: 1.1354705025600984\n=====================================\nRule: whole milk -> newspapers\nSupport: 0.07234479220112879\nConfidence: 0.5174311926605504\nLift: 1.129309512312892\n=====================================\nRule: yogurt -> newspapers\nSupport: 0.04720369420215495\nConfidence: 0.33761467889908253\nLift: 1.193129663054056\n=====================================\nRule: other vegetables -> pastry\nSupport: 0.0715751667521806\nConfidence: 0.4031791907514451\nLift: 1.0705670882487281\n=====================================\nRule: pip fruit -> other vegetables\nSupport: 0.07234479220112879\nConfidence: 0.42406015037593986\nLift: 1.126012579131753\n=====================================\nRule: pork -> other vegetables\nSupport: 0.05566957414058492\nConfidence: 0.42054263565891475\nLift: 1.1166724753395434\n=====================================\nRule: rolls/buns -> other vegetables\nSupport: 0.14674191893278604\nConfidence: 0.3896457765667575\nLift: 1.1143354637250336\n=====================================\nRule: root vegetables -> other vegetables\nSupport: 0.09415084658799384\nConfidence: 0.25\nLift: 1.0839822024471635\n=====================================\nRule: sausage -> other vegetables\nSupport: 0.09286813750641354\nConfidence: 0.24659400544959126\nLift: 1.1970403900902946\n=====================================\nRule: other vegetables -> shopping bags\nSupport: 0.07311441765007697\nConfidence: 0.4344512195121952\nLift: 1.1536041237455972\n=====================================\nRule: other vegetables -> soda\nSupport: 0.1241662390969728\nConfidence: 0.329700272479564\nLift: 1.0516953045215554\n=====================================\nRule: tropical fruit -> other vegetables\nSupport: 0.09132888660851719\nConfidence: 0.24250681198910082\nLift: 1.037641660958853\n=====================================\nRule: other vegetables -> whipped/sour cream\nSupport: 0.06695741405849154\nConfidence: 0.4328358208955224\nLift: 1.1493147342307537\n=====================================\nRule: whole milk -> other vegetables\nSupport: 0.1913801949717804\nConfidence: 0.5081743869209809\nLift: 1.1091062487222754\n=====================================\nRule: yogurt -> other vegetables\nSupport: 0.12031811185223192\nConfidence: 0.3194822888283379\nLift: 1.1290498294223583\n=====================================\nRule: rolls/buns -> pastry\nSupport: 0.06952283222165213\nConfidence: 0.3916184971098266\nLift: 1.1199771839575232\n=====================================\nRule: root vegetables -> pastry\nSupport: 0.04669061056952283\nConfidence: 0.2630057803468208\nLift: 1.140374340146727\n=====================================\nRule: soda -> pastry\nSupport: 0.06310928681375064\nConfidence: 0.35549132947976875\nLift: 1.1339649773421756\n=====================================\nRule: tropical fruit -> pastry\nSupport: 0.046177526936890714\nConfidence: 0.26011560693641617\nLift: 1.1129864279233264\n=====================================\nRule: whole milk -> pastry\nSupport: 0.09107234479220112\nConfidence: 0.5130057803468208\nLift: 1.119650913657283\n=====================================\nRule: yogurt -> pastry\nSupport: 0.05797845048742945\nConfidence: 0.3265895953757225\nLift: 1.154167037873587\n=====================================\nRule: rolls/buns -> pip fruit\nSupport: 0.0672139558748076\nConfidence: 0.39398496240601505\nLift: 1.1267449621853607\n=====================================\nRule: pip fruit -> soda\nSupport: 0.06054386865059005\nConfidence: 0.3548872180451128\nLift: 1.1320379508509408\n=====================================\nRule: pip fruit -> whole milk\nSupport: 0.08696767573114418\nConfidence: 0.5097744360902257\nLift: 1.1125984053077824\n=====================================\nRule: yogurt -> pip fruit\nSupport: 0.056695741405849154\nConfidence: 0.3323308270676692\nLift: 1.174456540262715\n=====================================\nRule: rolls/buns -> pork\nSupport: 0.04746023601847101\nConfidence: 0.35852713178294576\nLift: 1.025340249222247\n=====================================\nRule: pork -> soda\nSupport: 0.045664443304258596\nConfidence: 0.3449612403100775\nLift: 1.100375543967825\n=====================================\nRule: pork -> whole milk\nSupport: 0.06695741405849154\nConfidence: 0.5058139534883721\nLift: 1.103954530065887\n=====================================\nRule: rolls/buns -> root vegetables\nSupport: 0.09081580297588507\nConfidence: 0.25972120322817316\nLift: 1.12613264759001\n=====================================\nRule: rolls/buns -> sausage\nSupport: 0.0823499230374551\nConfidence: 0.235509904622157\nLift: 1.1432348794734346\n=====================================\nRule: rolls/buns -> shopping bags\nSupport: 0.06875320677270395\nConfidence: 0.4085365853658537\nLift: 1.16836068213947\n=====================================\nRule: rolls/buns -> soda\nSupport: 0.11980502821959979\nConfidence: 0.3426265590608951\nLift: 1.092928254680335\n=====================================\nRule: rolls/buns -> tropical fruit\nSupport: 0.08825038481272447\nConfidence: 0.25238444607483496\nLift: 1.0799062248075815\n=====================================\nRule: rolls/buns -> whipped/sour cream\nSupport: 0.05849153412006157\nConfidence: 0.3781094527363184\nLift: 1.0813431010756929\n=====================================\nRule: rolls/buns -> whole milk\nSupport: 0.17855310415597742\nConfidence: 0.5106382978723404\nLift: 1.1144838102499344\n=====================================\nRule: yogurt -> rolls/buns\nSupport: 0.11133914828116984\nConfidence: 0.318415260454879\nLift: 1.1252789530853295\n=====================================\nRule: sausage -> root vegetables\nSupport: 0.056182657773217036\nConfidence: 0.2436040044493882\nLift: 1.1825260390332692\n=====================================\nRule: root vegetables -> shopping bags\nSupport: 0.04746023601847101\nConfidence: 0.20578420467185762\nLift: 1.2227848015410077\n=====================================\nRule: root vegetables -> soda\nSupport: 0.08132375577219086\nConfidence: 0.3526140155728587\nLift: 1.1247867698060583\n=====================================\nRule: root vegetables -> tropical fruit\nSupport: 0.057465366854797334\nConfidence: 0.24916573971078976\nLift: 1.0661339773794276\n=====================================\nRule: root vegetables -> whole milk\nSupport: 0.11313494099538225\nConfidence: 0.4905450500556173\nLift: 1.0706296781169071\n=====================================\nRule: yogurt -> root vegetables\nSupport: 0.0715751667521806\nConfidence: 0.3103448275862069\nLift: 1.0967580579610468\n=====================================\nRule: sausage -> soda\nSupport: 0.07721908671113391\nConfidence: 0.3748443337484433\nLift: 1.195698210271221\n=====================================\nRule: sausage -> tropical fruit\nSupport: 0.054643406875320676\nConfidence: 0.2652552926525529\nLift: 1.1349781896373778\n=====================================\nRule: sausage -> whole milk\nSupport: 0.10697793740379682\nConfidence: 0.5193026151930261\nLift: 1.1333939496206136\n=====================================\nRule: yogurt -> sausage\nSupport: 0.07542329399692149\nConfidence: 0.3661270236612702\nLift: 1.2938922377439994\n=====================================\nRule: shopping bags -> soda\nSupport: 0.064648537711647\nConfidence: 0.38414634146341464\nLift: 1.2253702447008104\n=====================================\nRule: whole milk -> shopping bags\nSupport: 0.09132888660851719\nConfidence: 0.5426829268292683\nLift: 1.1844221997651108\n=====================================\nRule: yogurt -> shopping bags\nSupport: 0.05489994869163674\nConfidence: 0.32621951219512196\nLift: 1.152859164584393\n=====================================\nRule: tropical fruit -> soda\nSupport: 0.08183683940482299\nConfidence: 0.2610474631751228\nLift: 1.1169736678997022\n=====================================\nRule: whole milk -> soda\nSupport: 0.15110312981015905\nConfidence: 0.48199672667757776\nLift: 1.0519726990980953\n=====================================\nRule: yogurt -> soda\nSupport: 0.09748589020010262\nConfidence: 0.3109656301145663\nLift: 1.098951972970607\n=====================================\nRule: tropical fruit -> whole milk\nSupport: 0.11646998460749101\nConfidence: 0.4983534577387486\nLift: 1.0876717683458241\n=====================================\nRule: yogurt -> tropical fruit\nSupport: 0.07567983581323756\nConfidence: 0.32381997804610324\nLift: 1.1443792152526842\n=====================================\nRule: whole milk -> whipped/sour cream\nSupport: 0.0797845048742945\nConfidence: 0.5157545605306799\nLift: 1.1256502110574413\n=====================================\nRule: yogurt -> whipped/sour cream\nSupport: 0.04797331965110313\nConfidence: 0.31011608623548925\nLift: 1.0959496864423728\n=====================================\nRule: whole milk -> white bread\nSupport: 0.04771677783478707\nConfidence: 0.53757225433526\nLift: 1.1732679996634061\n=====================================\nRule: yogurt -> whole milk\nSupport: 0.15059004617752694\nConfidence: 0.32866741321388576\nLift: 1.1615100423460805\n=====================================\nRule: bottled water -> whole milk\nSupport: 0.056182657773217036\nConfidence: 0.26290516206482595\nLift: 1.3737323347569592\n=====================================\nRule: bottled water -> rolls/buns\nSupport: 0.04515135967162647\nConfidence: 0.21128451380552218\nLift: 1.1833147051924218\n=====================================\nRule: rolls/buns -> other vegetables\nSupport: 0.052591072344792204\nConfidence: 0.35839160839160844\nLift: 1.1432164398612845\n=====================================\nRule: rolls/buns -> whole milk\nSupport: 0.08209338122113904\nConfidence: 0.21798365122615804\nLift: 1.2208337248269598\n=====================================\nRule: yogurt -> rolls/buns\nSupport: 0.05233453052847614\nConfidence: 0.35664335664335667\nLift: 1.2603769756988255\n=====================================\nRule: root vegetables -> other vegetables\nSupport: 0.045407901487942534\nConfidence: 0.4822888283378746\nLift: 1.052610219966985\n=====================================\nRule: sausage -> whole milk\nSupport: 0.050282195997947664\nConfidence: 0.2440846824408468\nLift: 1.2753915444429234\n=====================================\nRule: whole milk -> other vegetables\nSupport: 0.06926629040533606\nConfidence: 0.220949263502455\nLift: 1.1545043285959378\n=====================================\nRule: tropical fruit -> other vegetables\nSupport: 0.050538737814263726\nConfidence: 0.21624588364434688\nLift: 1.1299282231175123\n=====================================\nRule: yogurt -> whole milk\nSupport: 0.07183170856849666\nConfidence: 0.25385312783318226\nLift: 1.3264336357824993\n=====================================\nRule: rolls/buns -> root vegetables\nSupport: 0.04797331965110313\nConfidence: 0.20800889877641823\nLift: 1.1649693784920665\n=====================================\nRule: rolls/buns -> sausage\nSupport: 0.04874294510005131\nConfidence: 0.23661270236612703\nLift: 1.325167117562016\n=====================================\nRule: rolls/buns -> whole milk\nSupport: 0.06516162134427912\nConfidence: 0.20785597381342064\nLift: 1.1641129108113701\n=====================================\nRule: rolls/buns -> tropical fruit\nSupport: 0.04643406875320677\nConfidence: 0.5261627906976744\nLift: 1.1483664939191123\n=====================================\nRule: yogurt -> rolls/buns\nSupport: 0.0659312467932273\nConfidence: 0.2330009066183137\nLift: 1.3049389856295788\n=====================================\nRule: yogurt -> whole milk\nSupport: 0.05438686505900462\nConfidence: 0.3599320882852292\nLift: 1.2719993473579543\n=====================================\n"
    }
   ],
   "source": [
    "#using apriori function to get items which have support>=min_support and conf>=min_conf\n",
    "association_rules = apriori(listOfTransactions, min_support=0.045, min_confidence=0.2, min_lift=1, min_length=2)\n",
    "\n",
    "#printing those items with parameters.\n",
    "count=0\n",
    "association_results=[]\n",
    "for item in association_rules:\n",
    "    pair = item[0] \n",
    "    items = [x for x in pair]\n",
    "    if len(items)>1:\n",
    "        count+=1\n",
    "        association_results.append(item)\n",
    "                \n",
    "        print(\"Rule: \" + items[0] + \" -> \" + items[1])\n",
    "        print(\"Support: \" + str(item[1]))\n",
    "        print(\"Confidence: \" + str(item[2][0][2]))\n",
    "        print(\"Lift: \" + str(item[2][0][3]))\n",
    "        print(\"=====================================\")"
   ]
  },
  {
   "cell_type": "code",
   "execution_count": null,
   "metadata": {},
   "outputs": [],
   "source": []
  }
 ],
 "metadata": {
  "language_info": {
   "codemirror_mode": {
    "name": "ipython",
    "version": 3
   },
   "file_extension": ".py",
   "mimetype": "text/x-python",
   "name": "python",
   "nbconvert_exporter": "python",
   "pygments_lexer": "ipython3",
   "version": 3
  },
  "orig_nbformat": 2,
  "kernelspec": {
   "name": "python_defaultSpec_1611565329823",
   "display_name": "Python 3.8.5 64-bit"
  }
 },
 "nbformat": 4,
 "nbformat_minor": 2
}