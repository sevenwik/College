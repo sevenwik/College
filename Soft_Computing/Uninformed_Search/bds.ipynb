{
  "cells": [
    {
      "cell_type": "code",
      "metadata": {
        "colab": {
          "base_uri": "https://localhost:8080/",
          "height": 119
        },
        "id": "dVQPSlWdVQop",
        "outputId": "4d826ecc-ee9c-47d8-e3c4-317c058f3c2f"
      },
      "source": [
        "import pandas as pd\n",
        "from graphviz import Graph\n",
        "\n",
        "def bfs(edgeList, goalNode, Open, Closed):\n",
        "\n",
        "        global dot\n",
        "        global traversed\n",
        "\n",
        "        currentNode = Open[0]\n",
        "        del Open[0]\n",
        "        \n",
        "        if(currentNode == goalNode):\n",
        "            Closed.append(currentNode)\n",
        "            return\n",
        "\n",
        "        Closed.append(currentNode)\n",
        "\n",
        "        childFrom = edgeList.loc[(edgeList[\"from\"]==currentNode) | (edgeList[\"to\"]==currentNode)]\n",
        "        childFrom = pd.concat([childFrom[\"from\"],childFrom[\"to\"]])\n",
        "        childFrom.index=range(len(childFrom.index))\n",
        "        child=set(childFrom)\n",
        "        nodes=list(childFrom.drop(childFrom[childFrom==currentNode].index))\n",
        "        nodes=list(nodes)\n",
        "        length=len(nodes)\n",
        "        childNode=[]\n",
        "        \n",
        "        for i in nodes:\n",
        "            if i not in Closed and i not in Open:\n",
        "                childNode.append(i)\n",
        "                if currentNode+i not in traversed and i+currentNode not in traversed:\n",
        "                  traversed.append(currentNode+i)\n",
        "        for i in childNode:\n",
        "            Open.append(i)\n",
        "\n",
        "        dot.node(currentNode,color=\"red\")\n",
        "\n",
        "    \n",
        "\n",
        "edgeList = pd.read_csv('edge_list.csv')\n",
        "\n",
        "ForwardOpen = []\n",
        "ForwardClosed = []\n",
        "BackwardOpen = []\n",
        "BackwardClosed = []\n",
        "traversed = []\n",
        "dot = Graph(comment='BFS')\n",
        "ForwardOpen.append(\"A\")\n",
        "BackwardOpen.append(\"M\")\n",
        "\n",
        "while(1) :\n",
        "  \n",
        "  bfs(edgeList, \"M\", ForwardOpen, ForwardClosed)\n",
        "  if len(ForwardClosed)>0 and len(BackwardClosed)>0 and ForwardClosed[-1]==BackwardClosed[-1] :\n",
        "    dot.node(BackwardClosed[-1],color=\"green\")\n",
        "    break\n",
        "  bfs(edgeList, \"A\", BackwardOpen, BackwardClosed)\n",
        "  if len(ForwardClosed)>0 and len(BackwardClosed)>0 and ForwardClosed[-1]==BackwardClosed[-1] :\n",
        "    dot.node(ForwardClosed[-1],color=\"green\")\n",
        "    break\n",
        "\n",
        "\n",
        "dot.node(\"M\",color=\"green\")\n",
        "dot.edges(traversed)\n",
        "dot.render('output/bds.gv', view=True)  \n",
        "'output/bds.gv.pdf'\n",
        "\n",
        "message = \"\\n\\nBi-Directional Search GRAPH\\n\\nForward Path \" + \"-->\".join(ForwardClosed) +\"\\n\\nBackward Path \" + \"-->\".join(BackwardClosed)\n",
        "print(message)\n",
        "\n",
        "dot.attr(label=message)\n"
      ],
      "execution_count": 6,
      "outputs": [
        {
          "output_type": "stream",
          "name": "stdout",
          "text": "\n\nBi-Directional Search GRAPH\n\nForward Path A-->B-->C-->D-->F\n\nBackward Path M-->K-->L-->F\n"
        }
      ]
    },
    {
      "cell_type": "code",
      "execution_count": null,
      "metadata": {},
      "outputs": [],
      "source": []
    }
  ],
  "metadata": {
    "colab": {
      "name": "bds",
      "provenance": [],
      "collapsed_sections": []
    },
    "kernelspec": {
      "name": "python3",
      "display_name": "Python 3",
      "language": "python"
    }
  },
  "nbformat": 4,
  "nbformat_minor": 0
}