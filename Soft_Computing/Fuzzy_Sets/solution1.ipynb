{
 "cells": [
  {
   "cell_type": "code",
   "execution_count": 44,
   "metadata": {},
   "outputs": [
    {
     "output_type": "stream",
     "name": "stdout",
     "text": "[[0, 0.2, 0.3333333333333333], [0, 0.09090909090909091, 0.23076923076923078], [0, 0, 0.14285714285714285]]\n[[0, 0.2727272727272727, 0.38461538461538464], [0, 0.06666666666666667, 0.17647058823529413], [0, 0, 0.05263157894736842]]\n======UNION======\n[[0, 0.2727272727272727, 0.38461538461538464], [0, 0.09090909090909091, 0.23076923076923078], [0, 0, 0.14285714285714285]]\n======INTERSECTION======\n[[0, 0.2, 0.3333333333333333], [0, 0.06666666666666667, 0.17647058823529413], [0, 0, 0.05263157894736842]]\n======Complement======\n[[1, 0.8, 0.6666666666666667], [1, 0.9090909090909091, 0.7692307692307692], [1, 1, 0.8571428571428572]]\n======Composition======\n[[0, 0.06666666666666667, 0.17647058823529413], [0, 0.06666666666666667, 0.09090909090909091], [0, 0, 0.05263157894736842]]\n"
    }
   ],
   "source": [
    "X = [3,4,5]\n",
    "Y = [3,5,7]\n",
    "Z = [2,6,8]\n",
    "\n",
    "R = [[0 for i in range(3)] for j in range(3)]\n",
    "S = [[0 for i in range(3)] for j in range(3)]\n",
    "\n",
    "for i in range(0,3):\n",
    "    for j in range(0,3):\n",
    "        if X[i] < Y[j]:\n",
    "            R[i][j] = (Y[j]-X[i])/(X[i]+Y[j]+2)\n",
    "            #print((Y[j]-X[i])/(X[i]+Y[j]+2))\n",
    "        elif X[i] >= Y[j]:\n",
    "            R[i][j] = 0\n",
    "\n",
    "for i in range(0,3):\n",
    "    for j in range(0,3):\n",
    "        if Y[i] < Z[j]:\n",
    "            S[i][j] = (Z[j]-Y[i])/(Z[i]+Y[j]+4)\n",
    "            #print((Y[j]-X[i])/(X[i]+Y[j]+2))\n",
    "        elif Z[i] >= Y[j]:\n",
    "            S[i][j] = 0\n",
    "print(R)\n",
    "print(S)\n",
    "temp = [[0 for i in range(3)] for j in range(3)]\n",
    "\n",
    "for i in range(0,3):\n",
    "    for j in range(0,3):\n",
    "        if R[i][j] > S[i][j]:\n",
    "            temp[i][j] = R[i][j]\n",
    "        else:\n",
    "            temp[i][j] = S[i][j]\n",
    "\n",
    "print(\"======UNION======\")\n",
    "print(temp)\n",
    "temp = [[0 for i in range(3)] for j in range(3)]\n",
    "\n",
    "for i in range(0,3):\n",
    "    for j in range(0,3):\n",
    "        if R[i][j] < S[i][j]:\n",
    "            temp[i][j] = R[i][j]\n",
    "        else:\n",
    "            temp[i][j] = S[i][j]\n",
    "print(\"======INTERSECTION======\")\n",
    "print(temp)\n",
    "\n",
    "for i in range(0,3):\n",
    "    for j in range(0,3):\n",
    "        temp[i][j] = 1 - R[i][j]\n",
    "print(\"======Complement======\")\n",
    "print(temp)\n",
    "\n",
    "temp2 = []\n",
    "for i in range(0,3):\n",
    "    for j in range(0,3):\n",
    "        for k in range(0,3):\n",
    "            if R[i][k] < S[k][j]:\n",
    "                temp2.append(R[i][k])\n",
    "            else:\n",
    "                temp2.append(S[k][j])\n",
    "        temp[i][j] = (max(temp2))\n",
    "        temp2 = []\n",
    "print(\"======Composition======\")\n",
    "print(temp)\n",
    "\n"
   ]
  },
  {
   "cell_type": "code",
   "execution_count": null,
   "metadata": {},
   "outputs": [],
   "source": []
  }
 ],
 "metadata": {
  "language_info": {
   "codemirror_mode": {
    "name": "ipython",
    "version": 3
   },
   "file_extension": ".py",
   "mimetype": "text/x-python",
   "name": "python",
   "nbconvert_exporter": "python",
   "pygments_lexer": "ipython3",
   "version": 3
  },
  "orig_nbformat": 2,
  "kernelspec": {
   "name": "python_defaultSpec_1614915167961",
   "display_name": "Python 3.8.5 64-bit"
  }
 },
 "nbformat": 4,
 "nbformat_minor": 2
}